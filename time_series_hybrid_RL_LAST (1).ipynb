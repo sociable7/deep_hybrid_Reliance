{
  "cells": [
    {
      "cell_type": "markdown",
      "metadata": {
        "id": "KS_VFrZt72rB"
      },
      "source": [
        "# **install library**"
      ]
    },
    {
      "cell_type": "markdown",
      "metadata": {
        "id": "NYWiB5hbSGCU"
      },
      "source": []
    },
    {
      "cell_type": "code",
      "execution_count": 1,
      "metadata": {
        "colab": {
          "base_uri": "https://localhost:8080/"
        },
        "id": "QROyOcxkiYJu",
        "outputId": "c3ea09fc-63fe-480e-f3d9-da35bb913594"
      },
      "outputs": [
        {
          "output_type": "stream",
          "name": "stdout",
          "text": [
            "Looking in indexes: https://pypi.org/simple, https://us-python.pkg.dev/colab-wheels/public/simple/\n",
            "Collecting vaderSentiment\n",
            "  Downloading vaderSentiment-3.3.2-py2.py3-none-any.whl (125 kB)\n",
            "\u001b[K     |████████████████████████████████| 125 kB 15.1 MB/s \n",
            "\u001b[?25hRequirement already satisfied: requests in /usr/local/lib/python3.7/dist-packages (from vaderSentiment) (2.23.0)\n",
            "Requirement already satisfied: chardet<4,>=3.0.2 in /usr/local/lib/python3.7/dist-packages (from requests->vaderSentiment) (3.0.4)\n",
            "Requirement already satisfied: urllib3!=1.25.0,!=1.25.1,<1.26,>=1.21.1 in /usr/local/lib/python3.7/dist-packages (from requests->vaderSentiment) (1.24.3)\n",
            "Requirement already satisfied: idna<3,>=2.5 in /usr/local/lib/python3.7/dist-packages (from requests->vaderSentiment) (2.10)\n",
            "Requirement already satisfied: certifi>=2017.4.17 in /usr/local/lib/python3.7/dist-packages (from requests->vaderSentiment) (2022.9.24)\n",
            "Installing collected packages: vaderSentiment\n",
            "Successfully installed vaderSentiment-3.3.2\n"
          ]
        }
      ],
      "source": [
        "pip install vaderSentiment"
      ]
    },
    {
      "cell_type": "code",
      "execution_count": 2,
      "metadata": {
        "colab": {
          "base_uri": "https://localhost:8080/"
        },
        "id": "rNYX7-WjeTPt",
        "outputId": "cd6a082a-88ab-4224-aed7-b74483de4790"
      },
      "outputs": [
        {
          "output_type": "stream",
          "name": "stdout",
          "text": [
            "Looking in indexes: https://pypi.org/simple, https://us-python.pkg.dev/colab-wheels/public/simple/\n",
            "Collecting GoogleNews\n",
            "  Downloading GoogleNews-1.6.5-py3-none-any.whl (8.0 kB)\n",
            "Requirement already satisfied: beautifulsoup4 in /usr/local/lib/python3.7/dist-packages (from GoogleNews) (4.6.3)\n",
            "Requirement already satisfied: python-dateutil in /usr/local/lib/python3.7/dist-packages (from GoogleNews) (2.8.2)\n",
            "Collecting dateparser\n",
            "  Downloading dateparser-1.1.3-py2.py3-none-any.whl (292 kB)\n",
            "\u001b[K     |████████████████████████████████| 292 kB 14.2 MB/s \n",
            "\u001b[?25hCollecting regex!=2019.02.19,!=2021.8.27,<2022.3.15\n",
            "  Downloading regex-2022.3.2-cp37-cp37m-manylinux_2_17_x86_64.manylinux2014_x86_64.whl (749 kB)\n",
            "\u001b[K     |████████████████████████████████| 749 kB 62.5 MB/s \n",
            "\u001b[?25hRequirement already satisfied: pytz in /usr/local/lib/python3.7/dist-packages (from dateparser->GoogleNews) (2022.6)\n",
            "Requirement already satisfied: tzlocal in /usr/local/lib/python3.7/dist-packages (from dateparser->GoogleNews) (1.5.1)\n",
            "Requirement already satisfied: six>=1.5 in /usr/local/lib/python3.7/dist-packages (from python-dateutil->GoogleNews) (1.15.0)\n",
            "Installing collected packages: regex, dateparser, GoogleNews\n",
            "  Attempting uninstall: regex\n",
            "    Found existing installation: regex 2022.6.2\n",
            "    Uninstalling regex-2022.6.2:\n",
            "      Successfully uninstalled regex-2022.6.2\n",
            "Successfully installed GoogleNews-1.6.5 dateparser-1.1.3 regex-2022.3.2\n"
          ]
        }
      ],
      "source": [
        "pip install GoogleNews"
      ]
    },
    {
      "cell_type": "code",
      "execution_count": 3,
      "metadata": {
        "colab": {
          "base_uri": "https://localhost:8080/"
        },
        "id": "jfy72X4Hbye0",
        "outputId": "0e1eeaa6-e570-46b3-d4cc-2b7ac910a780"
      },
      "outputs": [
        {
          "output_type": "stream",
          "name": "stdout",
          "text": [
            "Looking in indexes: https://pypi.org/simple, https://us-python.pkg.dev/colab-wheels/public/simple/\n",
            "Collecting yfinance\n",
            "  Downloading yfinance-0.1.87-py2.py3-none-any.whl (29 kB)\n",
            "Requirement already satisfied: lxml>=4.5.1 in /usr/local/lib/python3.7/dist-packages (from yfinance) (4.9.1)\n",
            "Requirement already satisfied: appdirs>=1.4.4 in /usr/local/lib/python3.7/dist-packages (from yfinance) (1.4.4)\n",
            "Requirement already satisfied: multitasking>=0.0.7 in /usr/local/lib/python3.7/dist-packages (from yfinance) (0.0.11)\n",
            "Requirement already satisfied: pandas>=0.24.0 in /usr/local/lib/python3.7/dist-packages (from yfinance) (1.3.5)\n",
            "Collecting requests>=2.26\n",
            "  Downloading requests-2.28.1-py3-none-any.whl (62 kB)\n",
            "\u001b[K     |████████████████████████████████| 62 kB 1.8 MB/s \n",
            "\u001b[?25hRequirement already satisfied: numpy>=1.15 in /usr/local/lib/python3.7/dist-packages (from yfinance) (1.21.6)\n",
            "Requirement already satisfied: python-dateutil>=2.7.3 in /usr/local/lib/python3.7/dist-packages (from pandas>=0.24.0->yfinance) (2.8.2)\n",
            "Requirement already satisfied: pytz>=2017.3 in /usr/local/lib/python3.7/dist-packages (from pandas>=0.24.0->yfinance) (2022.6)\n",
            "Requirement already satisfied: six>=1.5 in /usr/local/lib/python3.7/dist-packages (from python-dateutil>=2.7.3->pandas>=0.24.0->yfinance) (1.15.0)\n",
            "Requirement already satisfied: certifi>=2017.4.17 in /usr/local/lib/python3.7/dist-packages (from requests>=2.26->yfinance) (2022.9.24)\n",
            "Requirement already satisfied: idna<4,>=2.5 in /usr/local/lib/python3.7/dist-packages (from requests>=2.26->yfinance) (2.10)\n",
            "Requirement already satisfied: charset-normalizer<3,>=2 in /usr/local/lib/python3.7/dist-packages (from requests>=2.26->yfinance) (2.1.1)\n",
            "Requirement already satisfied: urllib3<1.27,>=1.21.1 in /usr/local/lib/python3.7/dist-packages (from requests>=2.26->yfinance) (1.24.3)\n",
            "Installing collected packages: requests, yfinance\n",
            "  Attempting uninstall: requests\n",
            "    Found existing installation: requests 2.23.0\n",
            "    Uninstalling requests-2.23.0:\n",
            "      Successfully uninstalled requests-2.23.0\n",
            "Successfully installed requests-2.28.1 yfinance-0.1.87\n"
          ]
        }
      ],
      "source": [
        "pip install yfinance"
      ]
    },
    {
      "cell_type": "markdown",
      "metadata": {
        "id": "na5LbR398gbv"
      },
      "source": [
        "# **read data from yahoo finace**"
      ]
    },
    {
      "cell_type": "code",
      "execution_count": 4,
      "metadata": {
        "id": "OciUBkKqKZZR"
      },
      "outputs": [],
      "source": [
        "# import pandas as pd\n",
        "# data_main=pd.read_csv(\"data.csv\")"
      ]
    },
    {
      "cell_type": "code",
      "execution_count": 5,
      "metadata": {
        "colab": {
          "base_uri": "https://localhost:8080/",
          "height": 473
        },
        "id": "pei95dl7cFqP",
        "outputId": "215d1aa2-6cad-4405-d8ad-a5001cc6f876"
      },
      "outputs": [
        {
          "output_type": "stream",
          "name": "stdout",
          "text": [
            "\r[*********************100%***********************]  1 of 1 completed\n"
          ]
        },
        {
          "output_type": "execute_result",
          "data": {
            "text/plain": [
              "                   Open         High          Low        Close    Adj Close  \\\n",
              "Date                                                                          \n",
              "2010-09-28   499.416046   501.248657   491.837860   494.562042   451.304504   \n",
              "2010-09-29   495.304993   499.762756   492.828491   494.809692   451.530548   \n",
              "2010-09-30   496.295624   496.295624   484.457825   488.989868   446.219727   \n",
              "2010-10-01   491.342560   500.258057   490.351959   499.217926   455.553162   \n",
              "2010-10-04   502.709808   508.083862   502.709808   504.146210   460.050415   \n",
              "...                 ...          ...          ...          ...          ...   \n",
              "2022-11-11  2600.000000  2636.000000  2588.000000  2631.800049  2631.800049   \n",
              "2022-11-14  2630.750000  2642.000000  2605.149902  2619.050049  2619.050049   \n",
              "2022-11-15  2622.300049  2626.399902  2590.000000  2607.300049  2607.300049   \n",
              "2022-11-16  2610.000000  2615.949951  2581.350098  2592.350098  2592.350098   \n",
              "2022-11-17  2584.949951  2613.000000  2580.000000  2607.050049  2607.050049   \n",
              "\n",
              "              Volume  \n",
              "Date                  \n",
              "2010-09-28   9083473  \n",
              "2010-09-29   8210100  \n",
              "2010-09-30  13375049  \n",
              "2010-10-01   8816508  \n",
              "2010-10-04   9766747  \n",
              "...              ...  \n",
              "2022-11-11   5681124  \n",
              "2022-11-14   4173395  \n",
              "2022-11-15   3270388  \n",
              "2022-11-16   4484007  \n",
              "2022-11-17   2454179  \n",
              "\n",
              "[2994 rows x 6 columns]"
            ],
            "text/html": [
              "\n",
              "  <div id=\"df-2da62f75-dab6-493c-9d6d-85d1c44d5d83\">\n",
              "    <div class=\"colab-df-container\">\n",
              "      <div>\n",
              "<style scoped>\n",
              "    .dataframe tbody tr th:only-of-type {\n",
              "        vertical-align: middle;\n",
              "    }\n",
              "\n",
              "    .dataframe tbody tr th {\n",
              "        vertical-align: top;\n",
              "    }\n",
              "\n",
              "    .dataframe thead th {\n",
              "        text-align: right;\n",
              "    }\n",
              "</style>\n",
              "<table border=\"1\" class=\"dataframe\">\n",
              "  <thead>\n",
              "    <tr style=\"text-align: right;\">\n",
              "      <th></th>\n",
              "      <th>Open</th>\n",
              "      <th>High</th>\n",
              "      <th>Low</th>\n",
              "      <th>Close</th>\n",
              "      <th>Adj Close</th>\n",
              "      <th>Volume</th>\n",
              "    </tr>\n",
              "    <tr>\n",
              "      <th>Date</th>\n",
              "      <th></th>\n",
              "      <th></th>\n",
              "      <th></th>\n",
              "      <th></th>\n",
              "      <th></th>\n",
              "      <th></th>\n",
              "    </tr>\n",
              "  </thead>\n",
              "  <tbody>\n",
              "    <tr>\n",
              "      <th>2010-09-28</th>\n",
              "      <td>499.416046</td>\n",
              "      <td>501.248657</td>\n",
              "      <td>491.837860</td>\n",
              "      <td>494.562042</td>\n",
              "      <td>451.304504</td>\n",
              "      <td>9083473</td>\n",
              "    </tr>\n",
              "    <tr>\n",
              "      <th>2010-09-29</th>\n",
              "      <td>495.304993</td>\n",
              "      <td>499.762756</td>\n",
              "      <td>492.828491</td>\n",
              "      <td>494.809692</td>\n",
              "      <td>451.530548</td>\n",
              "      <td>8210100</td>\n",
              "    </tr>\n",
              "    <tr>\n",
              "      <th>2010-09-30</th>\n",
              "      <td>496.295624</td>\n",
              "      <td>496.295624</td>\n",
              "      <td>484.457825</td>\n",
              "      <td>488.989868</td>\n",
              "      <td>446.219727</td>\n",
              "      <td>13375049</td>\n",
              "    </tr>\n",
              "    <tr>\n",
              "      <th>2010-10-01</th>\n",
              "      <td>491.342560</td>\n",
              "      <td>500.258057</td>\n",
              "      <td>490.351959</td>\n",
              "      <td>499.217926</td>\n",
              "      <td>455.553162</td>\n",
              "      <td>8816508</td>\n",
              "    </tr>\n",
              "    <tr>\n",
              "      <th>2010-10-04</th>\n",
              "      <td>502.709808</td>\n",
              "      <td>508.083862</td>\n",
              "      <td>502.709808</td>\n",
              "      <td>504.146210</td>\n",
              "      <td>460.050415</td>\n",
              "      <td>9766747</td>\n",
              "    </tr>\n",
              "    <tr>\n",
              "      <th>...</th>\n",
              "      <td>...</td>\n",
              "      <td>...</td>\n",
              "      <td>...</td>\n",
              "      <td>...</td>\n",
              "      <td>...</td>\n",
              "      <td>...</td>\n",
              "    </tr>\n",
              "    <tr>\n",
              "      <th>2022-11-11</th>\n",
              "      <td>2600.000000</td>\n",
              "      <td>2636.000000</td>\n",
              "      <td>2588.000000</td>\n",
              "      <td>2631.800049</td>\n",
              "      <td>2631.800049</td>\n",
              "      <td>5681124</td>\n",
              "    </tr>\n",
              "    <tr>\n",
              "      <th>2022-11-14</th>\n",
              "      <td>2630.750000</td>\n",
              "      <td>2642.000000</td>\n",
              "      <td>2605.149902</td>\n",
              "      <td>2619.050049</td>\n",
              "      <td>2619.050049</td>\n",
              "      <td>4173395</td>\n",
              "    </tr>\n",
              "    <tr>\n",
              "      <th>2022-11-15</th>\n",
              "      <td>2622.300049</td>\n",
              "      <td>2626.399902</td>\n",
              "      <td>2590.000000</td>\n",
              "      <td>2607.300049</td>\n",
              "      <td>2607.300049</td>\n",
              "      <td>3270388</td>\n",
              "    </tr>\n",
              "    <tr>\n",
              "      <th>2022-11-16</th>\n",
              "      <td>2610.000000</td>\n",
              "      <td>2615.949951</td>\n",
              "      <td>2581.350098</td>\n",
              "      <td>2592.350098</td>\n",
              "      <td>2592.350098</td>\n",
              "      <td>4484007</td>\n",
              "    </tr>\n",
              "    <tr>\n",
              "      <th>2022-11-17</th>\n",
              "      <td>2584.949951</td>\n",
              "      <td>2613.000000</td>\n",
              "      <td>2580.000000</td>\n",
              "      <td>2607.050049</td>\n",
              "      <td>2607.050049</td>\n",
              "      <td>2454179</td>\n",
              "    </tr>\n",
              "  </tbody>\n",
              "</table>\n",
              "<p>2994 rows × 6 columns</p>\n",
              "</div>\n",
              "      <button class=\"colab-df-convert\" onclick=\"convertToInteractive('df-2da62f75-dab6-493c-9d6d-85d1c44d5d83')\"\n",
              "              title=\"Convert this dataframe to an interactive table.\"\n",
              "              style=\"display:none;\">\n",
              "        \n",
              "  <svg xmlns=\"http://www.w3.org/2000/svg\" height=\"24px\"viewBox=\"0 0 24 24\"\n",
              "       width=\"24px\">\n",
              "    <path d=\"M0 0h24v24H0V0z\" fill=\"none\"/>\n",
              "    <path d=\"M18.56 5.44l.94 2.06.94-2.06 2.06-.94-2.06-.94-.94-2.06-.94 2.06-2.06.94zm-11 1L8.5 8.5l.94-2.06 2.06-.94-2.06-.94L8.5 2.5l-.94 2.06-2.06.94zm10 10l.94 2.06.94-2.06 2.06-.94-2.06-.94-.94-2.06-.94 2.06-2.06.94z\"/><path d=\"M17.41 7.96l-1.37-1.37c-.4-.4-.92-.59-1.43-.59-.52 0-1.04.2-1.43.59L10.3 9.45l-7.72 7.72c-.78.78-.78 2.05 0 2.83L4 21.41c.39.39.9.59 1.41.59.51 0 1.02-.2 1.41-.59l7.78-7.78 2.81-2.81c.8-.78.8-2.07 0-2.86zM5.41 20L4 18.59l7.72-7.72 1.47 1.35L5.41 20z\"/>\n",
              "  </svg>\n",
              "      </button>\n",
              "      \n",
              "  <style>\n",
              "    .colab-df-container {\n",
              "      display:flex;\n",
              "      flex-wrap:wrap;\n",
              "      gap: 12px;\n",
              "    }\n",
              "\n",
              "    .colab-df-convert {\n",
              "      background-color: #E8F0FE;\n",
              "      border: none;\n",
              "      border-radius: 50%;\n",
              "      cursor: pointer;\n",
              "      display: none;\n",
              "      fill: #1967D2;\n",
              "      height: 32px;\n",
              "      padding: 0 0 0 0;\n",
              "      width: 32px;\n",
              "    }\n",
              "\n",
              "    .colab-df-convert:hover {\n",
              "      background-color: #E2EBFA;\n",
              "      box-shadow: 0px 1px 2px rgba(60, 64, 67, 0.3), 0px 1px 3px 1px rgba(60, 64, 67, 0.15);\n",
              "      fill: #174EA6;\n",
              "    }\n",
              "\n",
              "    [theme=dark] .colab-df-convert {\n",
              "      background-color: #3B4455;\n",
              "      fill: #D2E3FC;\n",
              "    }\n",
              "\n",
              "    [theme=dark] .colab-df-convert:hover {\n",
              "      background-color: #434B5C;\n",
              "      box-shadow: 0px 1px 3px 1px rgba(0, 0, 0, 0.15);\n",
              "      filter: drop-shadow(0px 1px 2px rgba(0, 0, 0, 0.3));\n",
              "      fill: #FFFFFF;\n",
              "    }\n",
              "  </style>\n",
              "\n",
              "      <script>\n",
              "        const buttonEl =\n",
              "          document.querySelector('#df-2da62f75-dab6-493c-9d6d-85d1c44d5d83 button.colab-df-convert');\n",
              "        buttonEl.style.display =\n",
              "          google.colab.kernel.accessAllowed ? 'block' : 'none';\n",
              "\n",
              "        async function convertToInteractive(key) {\n",
              "          const element = document.querySelector('#df-2da62f75-dab6-493c-9d6d-85d1c44d5d83');\n",
              "          const dataTable =\n",
              "            await google.colab.kernel.invokeFunction('convertToInteractive',\n",
              "                                                     [key], {});\n",
              "          if (!dataTable) return;\n",
              "\n",
              "          const docLinkHtml = 'Like what you see? Visit the ' +\n",
              "            '<a target=\"_blank\" href=https://colab.research.google.com/notebooks/data_table.ipynb>data table notebook</a>'\n",
              "            + ' to learn more about interactive tables.';\n",
              "          element.innerHTML = '';\n",
              "          dataTable['output_type'] = 'display_data';\n",
              "          await google.colab.output.renderOutput(dataTable, element);\n",
              "          const docLink = document.createElement('div');\n",
              "          docLink.innerHTML = docLinkHtml;\n",
              "          element.appendChild(docLink);\n",
              "        }\n",
              "      </script>\n",
              "    </div>\n",
              "  </div>\n",
              "  "
            ]
          },
          "metadata": {},
          "execution_count": 5
        }
      ],
      "source": [
        "import yfinance as yf\n",
        "\n",
        "data_main = yf.download(tickers='RELIANCE.NS', period = '3000d', interval = '1d')\n",
        "data_main"
      ]
    },
    {
      "cell_type": "code",
      "execution_count": 6,
      "metadata": {
        "colab": {
          "base_uri": "https://localhost:8080/",
          "height": 518
        },
        "id": "iSPvsTEdck20",
        "outputId": "bd380a6e-205f-42dc-8a6b-908f8b785442"
      },
      "outputs": [
        {
          "output_type": "display_data",
          "data": {
            "text/plain": [
              "<Figure size 1080x576 with 1 Axes>"
            ],
            "image/png": "[encoded data removed]"
          },
          "metadata": {
            "needs_background": "light"
          }
        }
      ],
      "source": [
        "import matplotlib.pyplot as plt\n",
        "lst_name=[\"High\",\"Close\",\"Low\",\"Open\"]\n",
        "plt.figure(figsize=(15,8))\n",
        "plt.plot( data_main[lst_name[0]],\"k-\")\n",
        "plt.plot( data_main[lst_name[1]],\"r-\")\n",
        "plt.plot( data_main[lst_name[2]],\"b-\")\n",
        "plt.plot( data_main[lst_name[3]],\"g-\")\n",
        "plt.legend(lst_name,fontsize=12)\n",
        "plt.title('Price action for RELIANCE NS Trend', fontname='serif', fontsize=15)\n",
        "plt.xlabel('Data in Years', fontname='serif', fontsize=15)\n",
        "plt.ylabel('RELIANCE Value', fontname='serif', fontsize=15)\n",
        "plt.show()"
      ]
    },
    {
      "cell_type": "markdown",
      "metadata": {
        "id": "lZDIv7ZuIoB0"
      },
      "source": [
        "# **get news of GoogleNews**"
      ]
    },
    {
      "cell_type": "code",
      "execution_count": 7,
      "metadata": {
        "id": "K1AtFTFDhxK3"
      },
      "outputs": [],
      "source": [
        "import time\n",
        "import urllib\n",
        "import requests\n",
        "import bs4\n",
        "import pandas as pd\n",
        "import numpy as np\n",
        "import matplotlib.pyplot as plt\n",
        "from GoogleNews import GoogleNews\n",
        "import datetime\n",
        "from datetime import timedelta,date\n",
        "import time\n",
        "import datetime\n",
        "from dateutil.relativedelta import relativedelta\n",
        "\n",
        "def get_past_date(str_days_ago):\n",
        "    TODAY = datetime.date.today()\n",
        "    splitted = str_days_ago.split()\n",
        "    if len(splitted) == 1 and splitted[0].lower() == 'today':\n",
        "        return str(TODAY.isoformat())\n",
        "    elif len(splitted) == 1 and splitted[0].lower() == 'yesterday':\n",
        "        date = TODAY - relativedelta(days=1)\n",
        "        return str(date.isoformat())\n",
        "    elif splitted[1].lower() in ['hour', 'hours', 'hr', 'hrs', 'h']:\n",
        "        date = datetime.datetime.now() - relativedelta(hours=int(splitted[0]))\n",
        "        return str(date.date().isoformat())\n",
        "    elif splitted[1].lower() in ['day', 'days', 'd']:\n",
        "        date = TODAY - relativedelta(days=int(splitted[0]))\n",
        "        return str(date.isoformat())\n",
        "    elif splitted[1].lower() in ['wk', 'wks', 'week', 'weeks', 'w']:\n",
        "        date = TODAY - relativedelta(weeks=int(splitted[0]))\n",
        "        return str(date.isoformat())\n",
        "    elif splitted[1].lower() in ['mon', 'mons', 'month', 'months', 'm']:\n",
        "        date = TODAY - relativedelta(months=int(splitted[0]))\n",
        "        return str(date.isoformat())\n",
        "    elif splitted[1].lower() in ['yrs', 'yr', 'years', 'year', 'y']:\n",
        "        date = TODAY - relativedelta(years=int(splitted[0]))\n",
        "        return str(date.isoformat())\n",
        "    else:\n",
        "        return str_days_ago"
      ]
    },
    {
      "cell_type": "code",
      "execution_count": 8,
      "metadata": {
        "colab": {
          "base_uri": "https://localhost:8080/"
        },
        "id": "G2hHehVDNfmc",
        "outputId": "9ca77296-d7d3-41ea-f84a-eb9d418e4e56"
      },
      "outputs": [
        {
          "output_type": "stream",
          "name": "stderr",
          "text": [
            "1it [00:03,  3.21s/it]"
          ]
        },
        {
          "output_type": "stream",
          "name": "stdout",
          "text": [
            "'NoneType' object is not iterable\n"
          ]
        },
        {
          "output_type": "stream",
          "name": "stderr",
          "text": [
            "\r2it [00:03,  1.71s/it]"
          ]
        },
        {
          "output_type": "stream",
          "name": "stdout",
          "text": [
            "'NoneType' object is not iterable\n"
          ]
        },
        {
          "output_type": "stream",
          "name": "stderr",
          "text": [
            "8it [00:09,  1.02s/it]"
          ]
        },
        {
          "output_type": "stream",
          "name": "stdout",
          "text": [
            "'NoneType' object is not iterable\n"
          ]
        },
        {
          "output_type": "stream",
          "name": "stderr",
          "text": [
            "\r9it [00:10,  1.07it/s]"
          ]
        },
        {
          "output_type": "stream",
          "name": "stdout",
          "text": [
            "'NoneType' object is not iterable\n"
          ]
        },
        {
          "output_type": "stream",
          "name": "stderr",
          "text": [
            "15it [00:18,  1.27s/it]"
          ]
        },
        {
          "output_type": "stream",
          "name": "stdout",
          "text": [
            "'NoneType' object is not iterable\n"
          ]
        },
        {
          "output_type": "stream",
          "name": "stderr",
          "text": [
            "\r16it [00:19,  1.10s/it]"
          ]
        },
        {
          "output_type": "stream",
          "name": "stdout",
          "text": [
            "'NoneType' object is not iterable\n"
          ]
        },
        {
          "output_type": "stream",
          "name": "stderr",
          "text": [
            "18it [00:21,  1.00s/it]"
          ]
        },
        {
          "output_type": "stream",
          "name": "stdout",
          "text": [
            "'NoneType' object is not iterable\n"
          ]
        },
        {
          "output_type": "stream",
          "name": "stderr",
          "text": [
            "\r19it [00:21,  1.15it/s]"
          ]
        },
        {
          "output_type": "stream",
          "name": "stdout",
          "text": [
            "'NoneType' object is not iterable\n"
          ]
        },
        {
          "output_type": "stream",
          "name": "stderr",
          "text": [
            "\r20it [00:22,  1.23it/s]"
          ]
        },
        {
          "output_type": "stream",
          "name": "stdout",
          "text": [
            "'NoneType' object is not iterable\n"
          ]
        },
        {
          "output_type": "stream",
          "name": "stderr",
          "text": [
            "22it [00:23,  1.41it/s]"
          ]
        },
        {
          "output_type": "stream",
          "name": "stdout",
          "text": [
            "'NoneType' object is not iterable\n"
          ]
        },
        {
          "output_type": "stream",
          "name": "stderr",
          "text": [
            "\r23it [00:24,  1.54it/s]"
          ]
        },
        {
          "output_type": "stream",
          "name": "stdout",
          "text": [
            "'NoneType' object is not iterable\n"
          ]
        },
        {
          "output_type": "stream",
          "name": "stderr",
          "text": [
            "\r24it [00:24,  1.62it/s]"
          ]
        },
        {
          "output_type": "stream",
          "name": "stdout",
          "text": [
            "'NoneType' object is not iterable\n"
          ]
        },
        {
          "output_type": "stream",
          "name": "stderr",
          "text": [
            "\r25it [00:25,  1.61it/s]"
          ]
        },
        {
          "output_type": "stream",
          "name": "stdout",
          "text": [
            "'NoneType' object is not iterable\n"
          ]
        },
        {
          "output_type": "stream",
          "name": "stderr",
          "text": [
            "\r26it [00:26,  1.73it/s]"
          ]
        },
        {
          "output_type": "stream",
          "name": "stdout",
          "text": [
            "'NoneType' object is not iterable\n"
          ]
        },
        {
          "output_type": "stream",
          "name": "stderr",
          "text": [
            "27it [00:26,  1.01it/s]"
          ]
        },
        {
          "output_type": "stream",
          "name": "stdout",
          "text": [
            "'NoneType' object is not iterable\n"
          ]
        },
        {
          "output_type": "stream",
          "name": "stderr",
          "text": [
            "\n"
          ]
        }
      ],
      "source": [
        "from tqdm import tqdm\n",
        "\n",
        "news_google1=[]\n",
        "start_date = date(2022, 10, 1)\n",
        "end_date=date(2022, 10, 28)\n",
        "\n",
        "day_count=(end_date-start_date).days\n",
        "max_page_news=2\n",
        "for data_search in tqdm(start_date + timedelta(n) for n in range(day_count)):\n",
        "  st= data_search.strftime(\"%m/%d/%Y\")\n",
        "  googlenews=GoogleNews(start=st,end=st)\n",
        "  googlenews.search('RELIANCE.NS')\n",
        "  googlenews.page_at(max_page_news)\n",
        "  result=googlenews.result()\n",
        "  #time.sleep(15)\n",
        "  for j in range(len(result)):\n",
        "    feild=[]\n",
        "    tiltle_news=result[j][\"title\"]\n",
        "    link_news=result[j][\"link\"]\n",
        "    date_news=result[j][\"date\"]\n",
        "    feild.append(date_news)\n",
        "    feild.append(tiltle_news)\n",
        "    feild.append(link_news)\n",
        "    news_google1.append(feild)"
      ]
    },
    {
      "cell_type": "code",
      "execution_count": 9,
      "metadata": {
        "colab": {
          "base_uri": "https://localhost:8080/",
          "height": 175
        },
        "id": "-IZ5teRyOVqK",
        "outputId": "fe0ddc6d-50df-4079-d4c7-9086d41391bf"
      },
      "outputs": [
        {
          "output_type": "execute_result",
          "data": {
            "text/plain": [
              "                                                         news\n",
              "Date                                                         \n",
              "2022-10-17  PM launches 5G services, says it is beginning ...\n",
              "2022-10-20  Reliance Jio posts Rs 4518 crore net for Q2 Bi...\n",
              "2022-10-27  Samvat 2078 to kick in with a big bang Novarti..."
            ],
            "text/html": [
              "\n",
              "  <div id=\"df-24dc8b76-79a2-411a-a196-41765e8935f8\">\n",
              "    <div class=\"colab-df-container\">\n",
              "      <div>\n",
              "<style scoped>\n",
              "    .dataframe tbody tr th:only-of-type {\n",
              "        vertical-align: middle;\n",
              "    }\n",
              "\n",
              "    .dataframe tbody tr th {\n",
              "        vertical-align: top;\n",
              "    }\n",
              "\n",
              "    .dataframe thead th {\n",
              "        text-align: right;\n",
              "    }\n",
              "</style>\n",
              "<table border=\"1\" class=\"dataframe\">\n",
              "  <thead>\n",
              "    <tr style=\"text-align: right;\">\n",
              "      <th></th>\n",
              "      <th>news</th>\n",
              "    </tr>\n",
              "    <tr>\n",
              "      <th>Date</th>\n",
              "      <th></th>\n",
              "    </tr>\n",
              "  </thead>\n",
              "  <tbody>\n",
              "    <tr>\n",
              "      <th>2022-10-17</th>\n",
              "      <td>PM launches 5G services, says it is beginning ...</td>\n",
              "    </tr>\n",
              "    <tr>\n",
              "      <th>2022-10-20</th>\n",
              "      <td>Reliance Jio posts Rs 4518 crore net for Q2 Bi...</td>\n",
              "    </tr>\n",
              "    <tr>\n",
              "      <th>2022-10-27</th>\n",
              "      <td>Samvat 2078 to kick in with a big bang Novarti...</td>\n",
              "    </tr>\n",
              "  </tbody>\n",
              "</table>\n",
              "</div>\n",
              "      <button class=\"colab-df-convert\" onclick=\"convertToInteractive('df-24dc8b76-79a2-411a-a196-41765e8935f8')\"\n",
              "              title=\"Convert this dataframe to an interactive table.\"\n",
              "              style=\"display:none;\">\n",
              "        \n",
              "  <svg xmlns=\"http://www.w3.org/2000/svg\" height=\"24px\"viewBox=\"0 0 24 24\"\n",
              "       width=\"24px\">\n",
              "    <path d=\"M0 0h24v24H0V0z\" fill=\"none\"/>\n",
              "    <path d=\"M18.56 5.44l.94 2.06.94-2.06 2.06-.94-2.06-.94-.94-2.06-.94 2.06-2.06.94zm-11 1L8.5 8.5l.94-2.06 2.06-.94-2.06-.94L8.5 2.5l-.94 2.06-2.06.94zm10 10l.94 2.06.94-2.06 2.06-.94-2.06-.94-.94-2.06-.94 2.06-2.06.94z\"/><path d=\"M17.41 7.96l-1.37-1.37c-.4-.4-.92-.59-1.43-.59-.52 0-1.04.2-1.43.59L10.3 9.45l-7.72 7.72c-.78.78-.78 2.05 0 2.83L4 21.41c.39.39.9.59 1.41.59.51 0 1.02-.2 1.41-.59l7.78-7.78 2.81-2.81c.8-.78.8-2.07 0-2.86zM5.41 20L4 18.59l7.72-7.72 1.47 1.35L5.41 20z\"/>\n",
              "  </svg>\n",
              "      </button>\n",
              "      \n",
              "  <style>\n",
              "    .colab-df-container {\n",
              "      display:flex;\n",
              "      flex-wrap:wrap;\n",
              "      gap: 12px;\n",
              "    }\n",
              "\n",
              "    .colab-df-convert {\n",
              "      background-color: #E8F0FE;\n",
              "      border: none;\n",
              "      border-radius: 50%;\n",
              "      cursor: pointer;\n",
              "      display: none;\n",
              "      fill: #1967D2;\n",
              "      height: 32px;\n",
              "      padding: 0 0 0 0;\n",
              "      width: 32px;\n",
              "    }\n",
              "\n",
              "    .colab-df-convert:hover {\n",
              "      background-color: #E2EBFA;\n",
              "      box-shadow: 0px 1px 2px rgba(60, 64, 67, 0.3), 0px 1px 3px 1px rgba(60, 64, 67, 0.15);\n",
              "      fill: #174EA6;\n",
              "    }\n",
              "\n",
              "    [theme=dark] .colab-df-convert {\n",
              "      background-color: #3B4455;\n",
              "      fill: #D2E3FC;\n",
              "    }\n",
              "\n",
              "    [theme=dark] .colab-df-convert:hover {\n",
              "      background-color: #434B5C;\n",
              "      box-shadow: 0px 1px 3px 1px rgba(0, 0, 0, 0.15);\n",
              "      filter: drop-shadow(0px 1px 2px rgba(0, 0, 0, 0.3));\n",
              "      fill: #FFFFFF;\n",
              "    }\n",
              "  </style>\n",
              "\n",
              "      <script>\n",
              "        const buttonEl =\n",
              "          document.querySelector('#df-24dc8b76-79a2-411a-a196-41765e8935f8 button.colab-df-convert');\n",
              "        buttonEl.style.display =\n",
              "          google.colab.kernel.accessAllowed ? 'block' : 'none';\n",
              "\n",
              "        async function convertToInteractive(key) {\n",
              "          const element = document.querySelector('#df-24dc8b76-79a2-411a-a196-41765e8935f8');\n",
              "          const dataTable =\n",
              "            await google.colab.kernel.invokeFunction('convertToInteractive',\n",
              "                                                     [key], {});\n",
              "          if (!dataTable) return;\n",
              "\n",
              "          const docLinkHtml = 'Like what you see? Visit the ' +\n",
              "            '<a target=\"_blank\" href=https://colab.research.google.com/notebooks/data_table.ipynb>data table notebook</a>'\n",
              "            + ' to learn more about interactive tables.';\n",
              "          element.innerHTML = '';\n",
              "          dataTable['output_type'] = 'display_data';\n",
              "          await google.colab.output.renderOutput(dataTable, element);\n",
              "          const docLink = document.createElement('div');\n",
              "          docLink.innerHTML = docLinkHtml;\n",
              "          element.appendChild(docLink);\n",
              "        }\n",
              "      </script>\n",
              "    </div>\n",
              "  </div>\n",
              "  "
            ]
          },
          "metadata": {},
          "execution_count": 9
        }
      ],
      "source": [
        "# convert to dataset\n",
        "data_news_all=pd.DataFrame(news_google1,columns=[\"Date\",\"news\",\"link\"]) \n",
        "# convert string date to date time \n",
        "data_news_all[\"Date\"]=data_news_all[\"Date\"].apply(lambda x:get_past_date(x))\n",
        "# convert to datetime\n",
        "data_news_all['Date'] = pd.to_datetime(data_news_all['Date'],errors='coerce')\n",
        "# group by days news\n",
        "data_news_day=data_news_all.groupby(data_news_all['Date'].dt.date,\n",
        "                            as_index = True).agg( date=('Date','first'),\n",
        "                                                   news=('news',' '.join))\n",
        "data_news_day.drop(\"date\",axis=1,inplace=True)\n",
        "data_news_day"
      ]
    },
    {
      "cell_type": "code",
      "execution_count": 10,
      "metadata": {
        "colab": {
          "base_uri": "https://localhost:8080/",
          "height": 423
        },
        "id": "WDkQsjQ_rD9p",
        "outputId": "f4dffa21-b68e-4b60-9b36-22a468808cd2"
      },
      "outputs": [
        {
          "output_type": "execute_result",
          "data": {
            "text/plain": [
              "          Date                                               news  \\\n",
              "0   2022-10-17  PM launches 5G services, says it is beginning ...   \n",
              "1   2022-10-17  ASCI to monitor ed-tech dark patterns to preve...   \n",
              "2   2022-10-17  Trump appointed Florida judge may be removed f...   \n",
              "3   2022-10-17  ITC intensifies its 360-degree interventions t...   \n",
              "4   2022-10-17  Indian ED freezes USDT and WazirX's WRX, here'...   \n",
              "..         ...                                                ...   \n",
              "205 2022-10-27          Killam Apartment REIT Provides ESG Update   \n",
              "206 2022-10-27  Standout Results From Becher Aircore Drilling ...   \n",
              "207 2022-10-27  Osisko Metals Reports Additional Infill Drill ...   \n",
              "208 2022-10-27  Life In Nazi Germany: Food & Drink Used To Con...   \n",
              "209 2022-10-27  Klondike Gold 2022 Exploration and Resource Up...   \n",
              "\n",
              "                                                  link  \n",
              "0    https://in.investing.com/news/pm-launches-5g-s...  \n",
              "1    https://www.financialexpress.com/education-2/a...  \n",
              "2    https://in.investing.com/news/trump-appointed-...  \n",
              "3    https://in.investing.com/news/itc-intensifies-...  \n",
              "4    https://in.investing.com/news/indian-ed-freeze...  \n",
              "..                                                 ...  \n",
              "205  https://www.newswire.ca/news-releases/killam-a...  \n",
              "206  https://investingnews.com/standout-results-fro...  \n",
              "207  https://finance.yahoo.com/news/osisko-metals-r...  \n",
              "208  https://www.historyextra.com/period/second-wor...  \n",
              "209  https://www.digitaljournal.com/pr/klondike-gol...  \n",
              "\n",
              "[210 rows x 3 columns]"
            ],
            "text/html": [
              "\n",
              "  <div id=\"df-a79909c0-e43b-4ff8-ad06-33ac7a823746\">\n",
              "    <div class=\"colab-df-container\">\n",
              "      <div>\n",
              "<style scoped>\n",
              "    .dataframe tbody tr th:only-of-type {\n",
              "        vertical-align: middle;\n",
              "    }\n",
              "\n",
              "    .dataframe tbody tr th {\n",
              "        vertical-align: top;\n",
              "    }\n",
              "\n",
              "    .dataframe thead th {\n",
              "        text-align: right;\n",
              "    }\n",
              "</style>\n",
              "<table border=\"1\" class=\"dataframe\">\n",
              "  <thead>\n",
              "    <tr style=\"text-align: right;\">\n",
              "      <th></th>\n",
              "      <th>Date</th>\n",
              "      <th>news</th>\n",
              "      <th>link</th>\n",
              "    </tr>\n",
              "  </thead>\n",
              "  <tbody>\n",
              "    <tr>\n",
              "      <th>0</th>\n",
              "      <td>2022-10-17</td>\n",
              "      <td>PM launches 5G services, says it is beginning ...</td>\n",
              "      <td>https://in.investing.com/news/pm-launches-5g-s...</td>\n",
              "    </tr>\n",
              "    <tr>\n",
              "      <th>1</th>\n",
              "      <td>2022-10-17</td>\n",
              "      <td>ASCI to monitor ed-tech dark patterns to preve...</td>\n",
              "      <td>https://www.financialexpress.com/education-2/a...</td>\n",
              "    </tr>\n",
              "    <tr>\n",
              "      <th>2</th>\n",
              "      <td>2022-10-17</td>\n",
              "      <td>Trump appointed Florida judge may be removed f...</td>\n",
              "      <td>https://in.investing.com/news/trump-appointed-...</td>\n",
              "    </tr>\n",
              "    <tr>\n",
              "      <th>3</th>\n",
              "      <td>2022-10-17</td>\n",
              "      <td>ITC intensifies its 360-degree interventions t...</td>\n",
              "      <td>https://in.investing.com/news/itc-intensifies-...</td>\n",
              "    </tr>\n",
              "    <tr>\n",
              "      <th>4</th>\n",
              "      <td>2022-10-17</td>\n",
              "      <td>Indian ED freezes USDT and WazirX's WRX, here'...</td>\n",
              "      <td>https://in.investing.com/news/indian-ed-freeze...</td>\n",
              "    </tr>\n",
              "    <tr>\n",
              "      <th>...</th>\n",
              "      <td>...</td>\n",
              "      <td>...</td>\n",
              "      <td>...</td>\n",
              "    </tr>\n",
              "    <tr>\n",
              "      <th>205</th>\n",
              "      <td>2022-10-27</td>\n",
              "      <td>Killam Apartment REIT Provides ESG Update</td>\n",
              "      <td>https://www.newswire.ca/news-releases/killam-a...</td>\n",
              "    </tr>\n",
              "    <tr>\n",
              "      <th>206</th>\n",
              "      <td>2022-10-27</td>\n",
              "      <td>Standout Results From Becher Aircore Drilling ...</td>\n",
              "      <td>https://investingnews.com/standout-results-fro...</td>\n",
              "    </tr>\n",
              "    <tr>\n",
              "      <th>207</th>\n",
              "      <td>2022-10-27</td>\n",
              "      <td>Osisko Metals Reports Additional Infill Drill ...</td>\n",
              "      <td>https://finance.yahoo.com/news/osisko-metals-r...</td>\n",
              "    </tr>\n",
              "    <tr>\n",
              "      <th>208</th>\n",
              "      <td>2022-10-27</td>\n",
              "      <td>Life In Nazi Germany: Food &amp; Drink Used To Con...</td>\n",
              "      <td>https://www.historyextra.com/period/second-wor...</td>\n",
              "    </tr>\n",
              "    <tr>\n",
              "      <th>209</th>\n",
              "      <td>2022-10-27</td>\n",
              "      <td>Klondike Gold 2022 Exploration and Resource Up...</td>\n",
              "      <td>https://www.digitaljournal.com/pr/klondike-gol...</td>\n",
              "    </tr>\n",
              "  </tbody>\n",
              "</table>\n",
              "<p>210 rows × 3 columns</p>\n",
              "</div>\n",
              "      <button class=\"colab-df-convert\" onclick=\"convertToInteractive('df-a79909c0-e43b-4ff8-ad06-33ac7a823746')\"\n",
              "              title=\"Convert this dataframe to an interactive table.\"\n",
              "              style=\"display:none;\">\n",
              "        \n",
              "  <svg xmlns=\"http://www.w3.org/2000/svg\" height=\"24px\"viewBox=\"0 0 24 24\"\n",
              "       width=\"24px\">\n",
              "    <path d=\"M0 0h24v24H0V0z\" fill=\"none\"/>\n",
              "    <path d=\"M18.56 5.44l.94 2.06.94-2.06 2.06-.94-2.06-.94-.94-2.06-.94 2.06-2.06.94zm-11 1L8.5 8.5l.94-2.06 2.06-.94-2.06-.94L8.5 2.5l-.94 2.06-2.06.94zm10 10l.94 2.06.94-2.06 2.06-.94-2.06-.94-.94-2.06-.94 2.06-2.06.94z\"/><path d=\"M17.41 7.96l-1.37-1.37c-.4-.4-.92-.59-1.43-.59-.52 0-1.04.2-1.43.59L10.3 9.45l-7.72 7.72c-.78.78-.78 2.05 0 2.83L4 21.41c.39.39.9.59 1.41.59.51 0 1.02-.2 1.41-.59l7.78-7.78 2.81-2.81c.8-.78.8-2.07 0-2.86zM5.41 20L4 18.59l7.72-7.72 1.47 1.35L5.41 20z\"/>\n",
              "  </svg>\n",
              "      </button>\n",
              "      \n",
              "  <style>\n",
              "    .colab-df-container {\n",
              "      display:flex;\n",
              "      flex-wrap:wrap;\n",
              "      gap: 12px;\n",
              "    }\n",
              "\n",
              "    .colab-df-convert {\n",
              "      background-color: #E8F0FE;\n",
              "      border: none;\n",
              "      border-radius: 50%;\n",
              "      cursor: pointer;\n",
              "      display: none;\n",
              "      fill: #1967D2;\n",
              "      height: 32px;\n",
              "      padding: 0 0 0 0;\n",
              "      width: 32px;\n",
              "    }\n",
              "\n",
              "    .colab-df-convert:hover {\n",
              "      background-color: #E2EBFA;\n",
              "      box-shadow: 0px 1px 2px rgba(60, 64, 67, 0.3), 0px 1px 3px 1px rgba(60, 64, 67, 0.15);\n",
              "      fill: #174EA6;\n",
              "    }\n",
              "\n",
              "    [theme=dark] .colab-df-convert {\n",
              "      background-color: #3B4455;\n",
              "      fill: #D2E3FC;\n",
              "    }\n",
              "\n",
              "    [theme=dark] .colab-df-convert:hover {\n",
              "      background-color: #434B5C;\n",
              "      box-shadow: 0px 1px 3px 1px rgba(0, 0, 0, 0.15);\n",
              "      filter: drop-shadow(0px 1px 2px rgba(0, 0, 0, 0.3));\n",
              "      fill: #FFFFFF;\n",
              "    }\n",
              "  </style>\n",
              "\n",
              "      <script>\n",
              "        const buttonEl =\n",
              "          document.querySelector('#df-a79909c0-e43b-4ff8-ad06-33ac7a823746 button.colab-df-convert');\n",
              "        buttonEl.style.display =\n",
              "          google.colab.kernel.accessAllowed ? 'block' : 'none';\n",
              "\n",
              "        async function convertToInteractive(key) {\n",
              "          const element = document.querySelector('#df-a79909c0-e43b-4ff8-ad06-33ac7a823746');\n",
              "          const dataTable =\n",
              "            await google.colab.kernel.invokeFunction('convertToInteractive',\n",
              "                                                     [key], {});\n",
              "          if (!dataTable) return;\n",
              "\n",
              "          const docLinkHtml = 'Like what you see? Visit the ' +\n",
              "            '<a target=\"_blank\" href=https://colab.research.google.com/notebooks/data_table.ipynb>data table notebook</a>'\n",
              "            + ' to learn more about interactive tables.';\n",
              "          element.innerHTML = '';\n",
              "          dataTable['output_type'] = 'display_data';\n",
              "          await google.colab.output.renderOutput(dataTable, element);\n",
              "          const docLink = document.createElement('div');\n",
              "          docLink.innerHTML = docLinkHtml;\n",
              "          element.appendChild(docLink);\n",
              "        }\n",
              "      </script>\n",
              "    </div>\n",
              "  </div>\n",
              "  "
            ]
          },
          "metadata": {},
          "execution_count": 10
        }
      ],
      "source": [
        "data_news_all"
      ]
    },
    {
      "cell_type": "code",
      "execution_count": 11,
      "metadata": {
        "id": "EIft7vPuFz_H"
      },
      "outputs": [],
      "source": [
        "# from tqdm import tqdm\n",
        "\n",
        "# news_google2=[]\n",
        "# start_date = date(2022, 8, 15)\n",
        "# end_date=date(2022, 8, 28)\n",
        "\n",
        "# day_count=(end_date-start_date).days\n",
        "# max_page_news=2\n",
        "# for data_search in tqdm(start_date + timedelta(n) for n in range(day_count)):\n",
        "#   st= data_search.strftime(\"%m/%d/%Y\")\n",
        "#   googlenews=GoogleNews(start=st,end=st)\n",
        "#   googlenews.search('btc bitcoin')\n",
        "#   googlenews.page_at(max_page_news)\n",
        "#   result=googlenews.result()\n",
        "#   #time.sleep(15)\n",
        "#   for j in range(len(result)):\n",
        "#     feild=[]\n",
        "#     tiltle_news=result[j][\"title\"]\n",
        "#     link_news=result[j][\"link\"]\n",
        "#     date_news=result[j][\"date\"]\n",
        "#     feild.append(date_news)\n",
        "#     feild.append(tiltle_news)\n",
        "#     feild.append(link_news)\n",
        "#     news_google2.append(feild)\n"
      ]
    },
    {
      "cell_type": "code",
      "execution_count": 12,
      "metadata": {
        "id": "FWxaMrq_J2BY"
      },
      "outputs": [],
      "source": [
        "# # convert to dataset\n",
        "# data_news_all=pd.DataFrame(news_google2,columns=[\"Date\",\"news\",\"link\"]) \n",
        "# # convert string date to date time \n",
        "# data_news_all[\"Date\"]=data_news_all[\"Date\"].apply(lambda x:get_past_date(x))\n",
        "# # convert to datetime\n",
        "# data_news_all['Date'] = pd.to_datetime(data_news_all['Date'],errors='coerce')\n",
        "# # group by days news\n",
        "# data_news_day=data_news_all.groupby(data_news_all['Date'].dt.date,\n",
        "#                             as_index = True).agg( date=('Date','first'),\n",
        "#                                                    news=('news',' '.join))\n",
        "# data_news_day.drop(\"date\",axis=1,inplace=True)\n",
        "# data_news_day"
      ]
    },
    {
      "cell_type": "markdown",
      "metadata": {
        "id": "r6x48POqAfCN"
      },
      "source": [
        "# **vaderSentiment**"
      ]
    },
    {
      "cell_type": "code",
      "execution_count": 13,
      "metadata": {
        "colab": {
          "base_uri": "https://localhost:8080/",
          "height": 0
        },
        "id": "aU_3jK3qjO1U",
        "outputId": "c7cf45b3-bf7d-4751-f2c4-cd6bd3062e10"
      },
      "outputs": [
        {
          "output_type": "execute_result",
          "data": {
            "text/plain": [
              "                                                         news   score    neg  \\\n",
              "Date                                                                           \n",
              "2022-10-17  PM launches 5G services, says it is beginning ...  0.9992  0.070   \n",
              "2022-10-20  Reliance Jio posts Rs 4518 crore net for Q2 Bi...  0.3400  0.040   \n",
              "2022-10-27  Samvat 2078 to kick in with a big bang Novarti...  0.9808  0.025   \n",
              "\n",
              "              neu    pos  \n",
              "Date                      \n",
              "2022-10-17  0.787  0.143  \n",
              "2022-10-20  0.896  0.064  \n",
              "2022-10-27  0.830  0.145  "
            ],
            "text/html": [
              "\n",
              "  <div id=\"df-b7940bbd-a0b5-4eb0-8d67-438521bdb263\">\n",
              "    <div class=\"colab-df-container\">\n",
              "      <div>\n",
              "<style scoped>\n",
              "    .dataframe tbody tr th:only-of-type {\n",
              "        vertical-align: middle;\n",
              "    }\n",
              "\n",
              "    .dataframe tbody tr th {\n",
              "        vertical-align: top;\n",
              "    }\n",
              "\n",
              "    .dataframe thead th {\n",
              "        text-align: right;\n",
              "    }\n",
              "</style>\n",
              "<table border=\"1\" class=\"dataframe\">\n",
              "  <thead>\n",
              "    <tr style=\"text-align: right;\">\n",
              "      <th></th>\n",
              "      <th>news</th>\n",
              "      <th>score</th>\n",
              "      <th>neg</th>\n",
              "      <th>neu</th>\n",
              "      <th>pos</th>\n",
              "    </tr>\n",
              "    <tr>\n",
              "      <th>Date</th>\n",
              "      <th></th>\n",
              "      <th></th>\n",
              "      <th></th>\n",
              "      <th></th>\n",
              "      <th></th>\n",
              "    </tr>\n",
              "  </thead>\n",
              "  <tbody>\n",
              "    <tr>\n",
              "      <th>2022-10-17</th>\n",
              "      <td>PM launches 5G services, says it is beginning ...</td>\n",
              "      <td>0.9992</td>\n",
              "      <td>0.070</td>\n",
              "      <td>0.787</td>\n",
              "      <td>0.143</td>\n",
              "    </tr>\n",
              "    <tr>\n",
              "      <th>2022-10-20</th>\n",
              "      <td>Reliance Jio posts Rs 4518 crore net for Q2 Bi...</td>\n",
              "      <td>0.3400</td>\n",
              "      <td>0.040</td>\n",
              "      <td>0.896</td>\n",
              "      <td>0.064</td>\n",
              "    </tr>\n",
              "    <tr>\n",
              "      <th>2022-10-27</th>\n",
              "      <td>Samvat 2078 to kick in with a big bang Novarti...</td>\n",
              "      <td>0.9808</td>\n",
              "      <td>0.025</td>\n",
              "      <td>0.830</td>\n",
              "      <td>0.145</td>\n",
              "    </tr>\n",
              "  </tbody>\n",
              "</table>\n",
              "</div>\n",
              "      <button class=\"colab-df-convert\" onclick=\"convertToInteractive('df-b7940bbd-a0b5-4eb0-8d67-438521bdb263')\"\n",
              "              title=\"Convert this dataframe to an interactive table.\"\n",
              "              style=\"display:none;\">\n",
              "        \n",
              "  <svg xmlns=\"http://www.w3.org/2000/svg\" height=\"24px\"viewBox=\"0 0 24 24\"\n",
              "       width=\"24px\">\n",
              "    <path d=\"M0 0h24v24H0V0z\" fill=\"none\"/>\n",
              "    <path d=\"M18.56 5.44l.94 2.06.94-2.06 2.06-.94-2.06-.94-.94-2.06-.94 2.06-2.06.94zm-11 1L8.5 8.5l.94-2.06 2.06-.94-2.06-.94L8.5 2.5l-.94 2.06-2.06.94zm10 10l.94 2.06.94-2.06 2.06-.94-2.06-.94-.94-2.06-.94 2.06-2.06.94z\"/><path d=\"M17.41 7.96l-1.37-1.37c-.4-.4-.92-.59-1.43-.59-.52 0-1.04.2-1.43.59L10.3 9.45l-7.72 7.72c-.78.78-.78 2.05 0 2.83L4 21.41c.39.39.9.59 1.41.59.51 0 1.02-.2 1.41-.59l7.78-7.78 2.81-2.81c.8-.78.8-2.07 0-2.86zM5.41 20L4 18.59l7.72-7.72 1.47 1.35L5.41 20z\"/>\n",
              "  </svg>\n",
              "      </button>\n",
              "      \n",
              "  <style>\n",
              "    .colab-df-container {\n",
              "      display:flex;\n",
              "      flex-wrap:wrap;\n",
              "      gap: 12px;\n",
              "    }\n",
              "\n",
              "    .colab-df-convert {\n",
              "      background-color: #E8F0FE;\n",
              "      border: none;\n",
              "      border-radius: 50%;\n",
              "      cursor: pointer;\n",
              "      display: none;\n",
              "      fill: #1967D2;\n",
              "      height: 32px;\n",
              "      padding: 0 0 0 0;\n",
              "      width: 32px;\n",
              "    }\n",
              "\n",
              "    .colab-df-convert:hover {\n",
              "      background-color: #E2EBFA;\n",
              "      box-shadow: 0px 1px 2px rgba(60, 64, 67, 0.3), 0px 1px 3px 1px rgba(60, 64, 67, 0.15);\n",
              "      fill: #174EA6;\n",
              "    }\n",
              "\n",
              "    [theme=dark] .colab-df-convert {\n",
              "      background-color: #3B4455;\n",
              "      fill: #D2E3FC;\n",
              "    }\n",
              "\n",
              "    [theme=dark] .colab-df-convert:hover {\n",
              "      background-color: #434B5C;\n",
              "      box-shadow: 0px 1px 3px 1px rgba(0, 0, 0, 0.15);\n",
              "      filter: drop-shadow(0px 1px 2px rgba(0, 0, 0, 0.3));\n",
              "      fill: #FFFFFF;\n",
              "    }\n",
              "  </style>\n",
              "\n",
              "      <script>\n",
              "        const buttonEl =\n",
              "          document.querySelector('#df-b7940bbd-a0b5-4eb0-8d67-438521bdb263 button.colab-df-convert');\n",
              "        buttonEl.style.display =\n",
              "          google.colab.kernel.accessAllowed ? 'block' : 'none';\n",
              "\n",
              "        async function convertToInteractive(key) {\n",
              "          const element = document.querySelector('#df-b7940bbd-a0b5-4eb0-8d67-438521bdb263');\n",
              "          const dataTable =\n",
              "            await google.colab.kernel.invokeFunction('convertToInteractive',\n",
              "                                                     [key], {});\n",
              "          if (!dataTable) return;\n",
              "\n",
              "          const docLinkHtml = 'Like what you see? Visit the ' +\n",
              "            '<a target=\"_blank\" href=https://colab.research.google.com/notebooks/data_table.ipynb>data table notebook</a>'\n",
              "            + ' to learn more about interactive tables.';\n",
              "          element.innerHTML = '';\n",
              "          dataTable['output_type'] = 'display_data';\n",
              "          await google.colab.output.renderOutput(dataTable, element);\n",
              "          const docLink = document.createElement('div');\n",
              "          docLink.innerHTML = docLinkHtml;\n",
              "          element.appendChild(docLink);\n",
              "        }\n",
              "      </script>\n",
              "    </div>\n",
              "  </div>\n",
              "  "
            ]
          },
          "metadata": {},
          "execution_count": 13
        }
      ],
      "source": [
        "from vaderSentiment.vaderSentiment import SentimentIntensityAnalyzer\n",
        "sia = SentimentIntensityAnalyzer()\n",
        "def cal_sentiment(x):\n",
        "  #print('-')\n",
        "  score=sia.polarity_scores(x)\n",
        "  compound=score[\"compound\"]\n",
        "  neg=score[\"neg\"]\n",
        "  neu=score[\"neu\"]\n",
        "  pos=score[\"pos\"]\n",
        "  out_pd=pd.Series([compound,neg,neu,pos],\n",
        "            index=['score','neg','neu',\"pos\"])\n",
        "  \n",
        "  return out_pd\n",
        "\n",
        "data_news_day[['score','neg','neu',\"pos\"]]=data_news_day[\"news\"].apply(lambda x:cal_sentiment(x))\n",
        "data_news_sentiment=data_news_day.copy()\n",
        "data_news_sentiment"
      ]
    },
    {
      "cell_type": "code",
      "execution_count": 14,
      "metadata": {
        "id": "p45HjUqXjhpB"
      },
      "outputs": [],
      "source": [
        "data_main[\"date\"]=pd.to_datetime(data_main.index)\n",
        "data_news_sentiment[\"date\"]=pd.to_datetime(data_news_sentiment.index)\n",
        "data_main.reset_index(drop = True, inplace = True)\n",
        "data_news_sentiment.reset_index(drop = True, inplace = True)\n"
      ]
    },
    {
      "cell_type": "code",
      "execution_count": 15,
      "metadata": {
        "colab": {
          "base_uri": "https://localhost:8080/",
          "height": 0
        },
        "id": "pzISAuW_j3-M",
        "outputId": "d04b0778-9f60-46a1-e92e-3235e9dc9293"
      },
      "outputs": [
        {
          "output_type": "execute_result",
          "data": {
            "text/plain": [
              "             Open         High          Low        Close    Adj Close  \\\n",
              "0      499.416046   501.248657   491.837860   494.562042   451.304504   \n",
              "1      495.304993   499.762756   492.828491   494.809692   451.530548   \n",
              "2      496.295624   496.295624   484.457825   488.989868   446.219727   \n",
              "3      491.342560   500.258057   490.351959   499.217926   455.553162   \n",
              "4      502.709808   508.083862   502.709808   504.146210   460.050415   \n",
              "...           ...          ...          ...          ...          ...   \n",
              "2989  2600.000000  2636.000000  2588.000000  2631.800049  2631.800049   \n",
              "2990  2630.750000  2642.000000  2605.149902  2619.050049  2619.050049   \n",
              "2991  2622.300049  2626.399902  2590.000000  2607.300049  2607.300049   \n",
              "2992  2610.000000  2615.949951  2581.350098  2592.350098  2592.350098   \n",
              "2993  2584.949951  2613.000000  2580.000000  2607.050049  2607.050049   \n",
              "\n",
              "        Volume       date news  score  neg  neu  pos  \n",
              "0      9083473 2010-09-28    0    0.0  0.0  0.0  0.0  \n",
              "1      8210100 2010-09-29    0    0.0  0.0  0.0  0.0  \n",
              "2     13375049 2010-09-30    0    0.0  0.0  0.0  0.0  \n",
              "3      8816508 2010-10-01    0    0.0  0.0  0.0  0.0  \n",
              "4      9766747 2010-10-04    0    0.0  0.0  0.0  0.0  \n",
              "...        ...        ...  ...    ...  ...  ...  ...  \n",
              "2989   5681124 2022-11-11    0    0.0  0.0  0.0  0.0  \n",
              "2990   4173395 2022-11-14    0    0.0  0.0  0.0  0.0  \n",
              "2991   3270388 2022-11-15    0    0.0  0.0  0.0  0.0  \n",
              "2992   4484007 2022-11-16    0    0.0  0.0  0.0  0.0  \n",
              "2993   2454179 2022-11-17    0    0.0  0.0  0.0  0.0  \n",
              "\n",
              "[2994 rows x 12 columns]"
            ],
            "text/html": [
              "\n",
              "  <div id=\"df-9b660ead-c217-4631-b243-48aeddcbe69c\">\n",
              "    <div class=\"colab-df-container\">\n",
              "      <div>\n",
              "<style scoped>\n",
              "    .dataframe tbody tr th:only-of-type {\n",
              "        vertical-align: middle;\n",
              "    }\n",
              "\n",
              "    .dataframe tbody tr th {\n",
              "        vertical-align: top;\n",
              "    }\n",
              "\n",
              "    .dataframe thead th {\n",
              "        text-align: right;\n",
              "    }\n",
              "</style>\n",
              "<table border=\"1\" class=\"dataframe\">\n",
              "  <thead>\n",
              "    <tr style=\"text-align: right;\">\n",
              "      <th></th>\n",
              "      <th>Open</th>\n",
              "      <th>High</th>\n",
              "      <th>Low</th>\n",
              "      <th>Close</th>\n",
              "      <th>Adj Close</th>\n",
              "      <th>Volume</th>\n",
              "      <th>date</th>\n",
              "      <th>news</th>\n",
              "      <th>score</th>\n",
              "      <th>neg</th>\n",
              "      <th>neu</th>\n",
              "      <th>pos</th>\n",
              "    </tr>\n",
              "  </thead>\n",
              "  <tbody>\n",
              "    <tr>\n",
              "      <th>0</th>\n",
              "      <td>499.416046</td>\n",
              "      <td>501.248657</td>\n",
              "      <td>491.837860</td>\n",
              "      <td>494.562042</td>\n",
              "      <td>451.304504</td>\n",
              "      <td>9083473</td>\n",
              "      <td>2010-09-28</td>\n",
              "      <td>0</td>\n",
              "      <td>0.0</td>\n",
              "      <td>0.0</td>\n",
              "      <td>0.0</td>\n",
              "      <td>0.0</td>\n",
              "    </tr>\n",
              "    <tr>\n",
              "      <th>1</th>\n",
              "      <td>495.304993</td>\n",
              "      <td>499.762756</td>\n",
              "      <td>492.828491</td>\n",
              "      <td>494.809692</td>\n",
              "      <td>451.530548</td>\n",
              "      <td>8210100</td>\n",
              "      <td>2010-09-29</td>\n",
              "      <td>0</td>\n",
              "      <td>0.0</td>\n",
              "      <td>0.0</td>\n",
              "      <td>0.0</td>\n",
              "      <td>0.0</td>\n",
              "    </tr>\n",
              "    <tr>\n",
              "      <th>2</th>\n",
              "      <td>496.295624</td>\n",
              "      <td>496.295624</td>\n",
              "      <td>484.457825</td>\n",
              "      <td>488.989868</td>\n",
              "      <td>446.219727</td>\n",
              "      <td>13375049</td>\n",
              "      <td>2010-09-30</td>\n",
              "      <td>0</td>\n",
              "      <td>0.0</td>\n",
              "      <td>0.0</td>\n",
              "      <td>0.0</td>\n",
              "      <td>0.0</td>\n",
              "    </tr>\n",
              "    <tr>\n",
              "      <th>3</th>\n",
              "      <td>491.342560</td>\n",
              "      <td>500.258057</td>\n",
              "      <td>490.351959</td>\n",
              "      <td>499.217926</td>\n",
              "      <td>455.553162</td>\n",
              "      <td>8816508</td>\n",
              "      <td>2010-10-01</td>\n",
              "      <td>0</td>\n",
              "      <td>0.0</td>\n",
              "      <td>0.0</td>\n",
              "      <td>0.0</td>\n",
              "      <td>0.0</td>\n",
              "    </tr>\n",
              "    <tr>\n",
              "      <th>4</th>\n",
              "      <td>502.709808</td>\n",
              "      <td>508.083862</td>\n",
              "      <td>502.709808</td>\n",
              "      <td>504.146210</td>\n",
              "      <td>460.050415</td>\n",
              "      <td>9766747</td>\n",
              "      <td>2010-10-04</td>\n",
              "      <td>0</td>\n",
              "      <td>0.0</td>\n",
              "      <td>0.0</td>\n",
              "      <td>0.0</td>\n",
              "      <td>0.0</td>\n",
              "    </tr>\n",
              "    <tr>\n",
              "      <th>...</th>\n",
              "      <td>...</td>\n",
              "      <td>...</td>\n",
              "      <td>...</td>\n",
              "      <td>...</td>\n",
              "      <td>...</td>\n",
              "      <td>...</td>\n",
              "      <td>...</td>\n",
              "      <td>...</td>\n",
              "      <td>...</td>\n",
              "      <td>...</td>\n",
              "      <td>...</td>\n",
              "      <td>...</td>\n",
              "    </tr>\n",
              "    <tr>\n",
              "      <th>2989</th>\n",
              "      <td>2600.000000</td>\n",
              "      <td>2636.000000</td>\n",
              "      <td>2588.000000</td>\n",
              "      <td>2631.800049</td>\n",
              "      <td>2631.800049</td>\n",
              "      <td>5681124</td>\n",
              "      <td>2022-11-11</td>\n",
              "      <td>0</td>\n",
              "      <td>0.0</td>\n",
              "      <td>0.0</td>\n",
              "      <td>0.0</td>\n",
              "      <td>0.0</td>\n",
              "    </tr>\n",
              "    <tr>\n",
              "      <th>2990</th>\n",
              "      <td>2630.750000</td>\n",
              "      <td>2642.000000</td>\n",
              "      <td>2605.149902</td>\n",
              "      <td>2619.050049</td>\n",
              "      <td>2619.050049</td>\n",
              "      <td>4173395</td>\n",
              "      <td>2022-11-14</td>\n",
              "      <td>0</td>\n",
              "      <td>0.0</td>\n",
              "      <td>0.0</td>\n",
              "      <td>0.0</td>\n",
              "      <td>0.0</td>\n",
              "    </tr>\n",
              "    <tr>\n",
              "      <th>2991</th>\n",
              "      <td>2622.300049</td>\n",
              "      <td>2626.399902</td>\n",
              "      <td>2590.000000</td>\n",
              "      <td>2607.300049</td>\n",
              "      <td>2607.300049</td>\n",
              "      <td>3270388</td>\n",
              "      <td>2022-11-15</td>\n",
              "      <td>0</td>\n",
              "      <td>0.0</td>\n",
              "      <td>0.0</td>\n",
              "      <td>0.0</td>\n",
              "      <td>0.0</td>\n",
              "    </tr>\n",
              "    <tr>\n",
              "      <th>2992</th>\n",
              "      <td>2610.000000</td>\n",
              "      <td>2615.949951</td>\n",
              "      <td>2581.350098</td>\n",
              "      <td>2592.350098</td>\n",
              "      <td>2592.350098</td>\n",
              "      <td>4484007</td>\n",
              "      <td>2022-11-16</td>\n",
              "      <td>0</td>\n",
              "      <td>0.0</td>\n",
              "      <td>0.0</td>\n",
              "      <td>0.0</td>\n",
              "      <td>0.0</td>\n",
              "    </tr>\n",
              "    <tr>\n",
              "      <th>2993</th>\n",
              "      <td>2584.949951</td>\n",
              "      <td>2613.000000</td>\n",
              "      <td>2580.000000</td>\n",
              "      <td>2607.050049</td>\n",
              "      <td>2607.050049</td>\n",
              "      <td>2454179</td>\n",
              "      <td>2022-11-17</td>\n",
              "      <td>0</td>\n",
              "      <td>0.0</td>\n",
              "      <td>0.0</td>\n",
              "      <td>0.0</td>\n",
              "      <td>0.0</td>\n",
              "    </tr>\n",
              "  </tbody>\n",
              "</table>\n",
              "<p>2994 rows × 12 columns</p>\n",
              "</div>\n",
              "      <button class=\"colab-df-convert\" onclick=\"convertToInteractive('df-9b660ead-c217-4631-b243-48aeddcbe69c')\"\n",
              "              title=\"Convert this dataframe to an interactive table.\"\n",
              "              style=\"display:none;\">\n",
              "        \n",
              "  <svg xmlns=\"http://www.w3.org/2000/svg\" height=\"24px\"viewBox=\"0 0 24 24\"\n",
              "       width=\"24px\">\n",
              "    <path d=\"M0 0h24v24H0V0z\" fill=\"none\"/>\n",
              "    <path d=\"M18.56 5.44l.94 2.06.94-2.06 2.06-.94-2.06-.94-.94-2.06-.94 2.06-2.06.94zm-11 1L8.5 8.5l.94-2.06 2.06-.94-2.06-.94L8.5 2.5l-.94 2.06-2.06.94zm10 10l.94 2.06.94-2.06 2.06-.94-2.06-.94-.94-2.06-.94 2.06-2.06.94z\"/><path d=\"M17.41 7.96l-1.37-1.37c-.4-.4-.92-.59-1.43-.59-.52 0-1.04.2-1.43.59L10.3 9.45l-7.72 7.72c-.78.78-.78 2.05 0 2.83L4 21.41c.39.39.9.59 1.41.59.51 0 1.02-.2 1.41-.59l7.78-7.78 2.81-2.81c.8-.78.8-2.07 0-2.86zM5.41 20L4 18.59l7.72-7.72 1.47 1.35L5.41 20z\"/>\n",
              "  </svg>\n",
              "      </button>\n",
              "      \n",
              "  <style>\n",
              "    .colab-df-container {\n",
              "      display:flex;\n",
              "      flex-wrap:wrap;\n",
              "      gap: 12px;\n",
              "    }\n",
              "\n",
              "    .colab-df-convert {\n",
              "      background-color: #E8F0FE;\n",
              "      border: none;\n",
              "      border-radius: 50%;\n",
              "      cursor: pointer;\n",
              "      display: none;\n",
              "      fill: #1967D2;\n",
              "      height: 32px;\n",
              "      padding: 0 0 0 0;\n",
              "      width: 32px;\n",
              "    }\n",
              "\n",
              "    .colab-df-convert:hover {\n",
              "      background-color: #E2EBFA;\n",
              "      box-shadow: 0px 1px 2px rgba(60, 64, 67, 0.3), 0px 1px 3px 1px rgba(60, 64, 67, 0.15);\n",
              "      fill: #174EA6;\n",
              "    }\n",
              "\n",
              "    [theme=dark] .colab-df-convert {\n",
              "      background-color: #3B4455;\n",
              "      fill: #D2E3FC;\n",
              "    }\n",
              "\n",
              "    [theme=dark] .colab-df-convert:hover {\n",
              "      background-color: #434B5C;\n",
              "      box-shadow: 0px 1px 3px 1px rgba(0, 0, 0, 0.15);\n",
              "      filter: drop-shadow(0px 1px 2px rgba(0, 0, 0, 0.3));\n",
              "      fill: #FFFFFF;\n",
              "    }\n",
              "  </style>\n",
              "\n",
              "      <script>\n",
              "        const buttonEl =\n",
              "          document.querySelector('#df-9b660ead-c217-4631-b243-48aeddcbe69c button.colab-df-convert');\n",
              "        buttonEl.style.display =\n",
              "          google.colab.kernel.accessAllowed ? 'block' : 'none';\n",
              "\n",
              "        async function convertToInteractive(key) {\n",
              "          const element = document.querySelector('#df-9b660ead-c217-4631-b243-48aeddcbe69c');\n",
              "          const dataTable =\n",
              "            await google.colab.kernel.invokeFunction('convertToInteractive',\n",
              "                                                     [key], {});\n",
              "          if (!dataTable) return;\n",
              "\n",
              "          const docLinkHtml = 'Like what you see? Visit the ' +\n",
              "            '<a target=\"_blank\" href=https://colab.research.google.com/notebooks/data_table.ipynb>data table notebook</a>'\n",
              "            + ' to learn more about interactive tables.';\n",
              "          element.innerHTML = '';\n",
              "          dataTable['output_type'] = 'display_data';\n",
              "          await google.colab.output.renderOutput(dataTable, element);\n",
              "          const docLink = document.createElement('div');\n",
              "          docLink.innerHTML = docLinkHtml;\n",
              "          element.appendChild(docLink);\n",
              "        }\n",
              "      </script>\n",
              "    </div>\n",
              "  </div>\n",
              "  "
            ]
          },
          "metadata": {},
          "execution_count": 15
        }
      ],
      "source": [
        "data_final=pd.merge(data_main,data_news_sentiment, on=\"date\",how=\"left\")\n",
        "data_final=data_final.fillna(0)\n",
        "data_final.replace(np.inf,0,inplace=True)\n",
        "data_final"
      ]
    },
    {
      "cell_type": "markdown",
      "metadata": {
        "id": "qmwRItpjECgL"
      },
      "source": [
        "# **Normalization**"
      ]
    },
    {
      "cell_type": "code",
      "execution_count": 16,
      "metadata": {
        "colab": {
          "base_uri": "https://localhost:8080/",
          "height": 423
        },
        "id": "aoxEnOvN7Cjv",
        "outputId": "a0ffc772-79b3-4555-bc16-59532c45afc0"
      },
      "outputs": [
        {
          "output_type": "execute_result",
          "data": {
            "text/plain": [
              "            Close  score\n",
              "0      494.562042    0.0\n",
              "1      494.809692    0.0\n",
              "2      488.989868    0.0\n",
              "3      499.217926    0.0\n",
              "4      504.146210    0.0\n",
              "...           ...    ...\n",
              "2989  2631.800049    0.0\n",
              "2990  2619.050049    0.0\n",
              "2991  2607.300049    0.0\n",
              "2992  2592.350098    0.0\n",
              "2993  2607.050049    0.0\n",
              "\n",
              "[2994 rows x 2 columns]"
            ],
            "text/html": [
              "\n",
              "  <div id=\"df-b1337ea2-3f62-415a-bb9a-797bc789eda5\">\n",
              "    <div class=\"colab-df-container\">\n",
              "      <div>\n",
              "<style scoped>\n",
              "    .dataframe tbody tr th:only-of-type {\n",
              "        vertical-align: middle;\n",
              "    }\n",
              "\n",
              "    .dataframe tbody tr th {\n",
              "        vertical-align: top;\n",
              "    }\n",
              "\n",
              "    .dataframe thead th {\n",
              "        text-align: right;\n",
              "    }\n",
              "</style>\n",
              "<table border=\"1\" class=\"dataframe\">\n",
              "  <thead>\n",
              "    <tr style=\"text-align: right;\">\n",
              "      <th></th>\n",
              "      <th>Close</th>\n",
              "      <th>score</th>\n",
              "    </tr>\n",
              "  </thead>\n",
              "  <tbody>\n",
              "    <tr>\n",
              "      <th>0</th>\n",
              "      <td>494.562042</td>\n",
              "      <td>0.0</td>\n",
              "    </tr>\n",
              "    <tr>\n",
              "      <th>1</th>\n",
              "      <td>494.809692</td>\n",
              "      <td>0.0</td>\n",
              "    </tr>\n",
              "    <tr>\n",
              "      <th>2</th>\n",
              "      <td>488.989868</td>\n",
              "      <td>0.0</td>\n",
              "    </tr>\n",
              "    <tr>\n",
              "      <th>3</th>\n",
              "      <td>499.217926</td>\n",
              "      <td>0.0</td>\n",
              "    </tr>\n",
              "    <tr>\n",
              "      <th>4</th>\n",
              "      <td>504.146210</td>\n",
              "      <td>0.0</td>\n",
              "    </tr>\n",
              "    <tr>\n",
              "      <th>...</th>\n",
              "      <td>...</td>\n",
              "      <td>...</td>\n",
              "    </tr>\n",
              "    <tr>\n",
              "      <th>2989</th>\n",
              "      <td>2631.800049</td>\n",
              "      <td>0.0</td>\n",
              "    </tr>\n",
              "    <tr>\n",
              "      <th>2990</th>\n",
              "      <td>2619.050049</td>\n",
              "      <td>0.0</td>\n",
              "    </tr>\n",
              "    <tr>\n",
              "      <th>2991</th>\n",
              "      <td>2607.300049</td>\n",
              "      <td>0.0</td>\n",
              "    </tr>\n",
              "    <tr>\n",
              "      <th>2992</th>\n",
              "      <td>2592.350098</td>\n",
              "      <td>0.0</td>\n",
              "    </tr>\n",
              "    <tr>\n",
              "      <th>2993</th>\n",
              "      <td>2607.050049</td>\n",
              "      <td>0.0</td>\n",
              "    </tr>\n",
              "  </tbody>\n",
              "</table>\n",
              "<p>2994 rows × 2 columns</p>\n",
              "</div>\n",
              "      <button class=\"colab-df-convert\" onclick=\"convertToInteractive('df-b1337ea2-3f62-415a-bb9a-797bc789eda5')\"\n",
              "              title=\"Convert this dataframe to an interactive table.\"\n",
              "              style=\"display:none;\">\n",
              "        \n",
              "  <svg xmlns=\"http://www.w3.org/2000/svg\" height=\"24px\"viewBox=\"0 0 24 24\"\n",
              "       width=\"24px\">\n",
              "    <path d=\"M0 0h24v24H0V0z\" fill=\"none\"/>\n",
              "    <path d=\"M18.56 5.44l.94 2.06.94-2.06 2.06-.94-2.06-.94-.94-2.06-.94 2.06-2.06.94zm-11 1L8.5 8.5l.94-2.06 2.06-.94-2.06-.94L8.5 2.5l-.94 2.06-2.06.94zm10 10l.94 2.06.94-2.06 2.06-.94-2.06-.94-.94-2.06-.94 2.06-2.06.94z\"/><path d=\"M17.41 7.96l-1.37-1.37c-.4-.4-.92-.59-1.43-.59-.52 0-1.04.2-1.43.59L10.3 9.45l-7.72 7.72c-.78.78-.78 2.05 0 2.83L4 21.41c.39.39.9.59 1.41.59.51 0 1.02-.2 1.41-.59l7.78-7.78 2.81-2.81c.8-.78.8-2.07 0-2.86zM5.41 20L4 18.59l7.72-7.72 1.47 1.35L5.41 20z\"/>\n",
              "  </svg>\n",
              "      </button>\n",
              "      \n",
              "  <style>\n",
              "    .colab-df-container {\n",
              "      display:flex;\n",
              "      flex-wrap:wrap;\n",
              "      gap: 12px;\n",
              "    }\n",
              "\n",
              "    .colab-df-convert {\n",
              "      background-color: #E8F0FE;\n",
              "      border: none;\n",
              "      border-radius: 50%;\n",
              "      cursor: pointer;\n",
              "      display: none;\n",
              "      fill: #1967D2;\n",
              "      height: 32px;\n",
              "      padding: 0 0 0 0;\n",
              "      width: 32px;\n",
              "    }\n",
              "\n",
              "    .colab-df-convert:hover {\n",
              "      background-color: #E2EBFA;\n",
              "      box-shadow: 0px 1px 2px rgba(60, 64, 67, 0.3), 0px 1px 3px 1px rgba(60, 64, 67, 0.15);\n",
              "      fill: #174EA6;\n",
              "    }\n",
              "\n",
              "    [theme=dark] .colab-df-convert {\n",
              "      background-color: #3B4455;\n",
              "      fill: #D2E3FC;\n",
              "    }\n",
              "\n",
              "    [theme=dark] .colab-df-convert:hover {\n",
              "      background-color: #434B5C;\n",
              "      box-shadow: 0px 1px 3px 1px rgba(0, 0, 0, 0.15);\n",
              "      filter: drop-shadow(0px 1px 2px rgba(0, 0, 0, 0.3));\n",
              "      fill: #FFFFFF;\n",
              "    }\n",
              "  </style>\n",
              "\n",
              "      <script>\n",
              "        const buttonEl =\n",
              "          document.querySelector('#df-b1337ea2-3f62-415a-bb9a-797bc789eda5 button.colab-df-convert');\n",
              "        buttonEl.style.display =\n",
              "          google.colab.kernel.accessAllowed ? 'block' : 'none';\n",
              "\n",
              "        async function convertToInteractive(key) {\n",
              "          const element = document.querySelector('#df-b1337ea2-3f62-415a-bb9a-797bc789eda5');\n",
              "          const dataTable =\n",
              "            await google.colab.kernel.invokeFunction('convertToInteractive',\n",
              "                                                     [key], {});\n",
              "          if (!dataTable) return;\n",
              "\n",
              "          const docLinkHtml = 'Like what you see? Visit the ' +\n",
              "            '<a target=\"_blank\" href=https://colab.research.google.com/notebooks/data_table.ipynb>data table notebook</a>'\n",
              "            + ' to learn more about interactive tables.';\n",
              "          element.innerHTML = '';\n",
              "          dataTable['output_type'] = 'display_data';\n",
              "          await google.colab.output.renderOutput(dataTable, element);\n",
              "          const docLink = document.createElement('div');\n",
              "          docLink.innerHTML = docLinkHtml;\n",
              "          element.appendChild(docLink);\n",
              "        }\n",
              "      </script>\n",
              "    </div>\n",
              "  </div>\n",
              "  "
            ]
          },
          "metadata": {},
          "execution_count": 16
        }
      ],
      "source": [
        "data_ready=data_final[[\"Close\",\"score\"]].copy()\n",
        "data_ready = data_ready.sort_index(ascending=True, axis=0)\n",
        "data_ready"
      ]
    },
    {
      "cell_type": "code",
      "execution_count": 17,
      "metadata": {
        "id": "-hqvCJ-LKsY-"
      },
      "outputs": [],
      "source": [
        "# pred=lstm_model.predict(x_test)"
      ]
    },
    {
      "cell_type": "code",
      "execution_count": 18,
      "metadata": {
        "colab": {
          "base_uri": "https://localhost:8080/"
        },
        "id": "-iRzCVHfC4oc",
        "outputId": "9a155c35-8384-4a3c-97a0-e1b2a0a9833e"
      },
      "outputs": [
        {
          "output_type": "stream",
          "name": "stdout",
          "text": [
            "Close\n",
            "score\n"
          ]
        }
      ],
      "source": [
        "from sklearn.preprocessing import MinMaxScaler\n",
        "data_normal=data_ready.copy()\n",
        "sce=MinMaxScaler(feature_range=(-1,1))\n",
        "for col_name in (data_ready.columns):\n",
        "  print(col_name)\n",
        "  data_col=data_ready[col_name].values.reshape(-1,1)\n",
        "  data_normal[col_name]=sce.fit_transform(data_col)\n"
      ]
    },
    {
      "cell_type": "markdown",
      "metadata": {
        "id": "WWugnSdWEH8q"
      },
      "source": [
        "# **split data and window**"
      ]
    },
    {
      "cell_type": "code",
      "execution_count": 19,
      "metadata": {
        "colab": {
          "base_uri": "https://localhost:8080/"
        },
        "id": "TojSPMQjBo8U",
        "outputId": "1b5690b5-c4d5-45ac-b8af-0216606796c9"
      },
      "outputs": [
        {
          "output_type": "stream",
          "name": "stdout",
          "text": [
            "__________________________________________________\n",
            "-> data_train  shape = (2096, 2)\n",
            "-> data_test   shape = (958, 2)\n",
            "__________________________________________________\n"
          ]
        }
      ],
      "source": [
        "win=60\n",
        "data_hybrid=data_normal.values\n",
        "trian_Percentage=0.70\n",
        "idx=round(data_hybrid.shape[0]*trian_Percentage)\n",
        "data_train=data_hybrid[0:idx,:]\n",
        "data_test=data_hybrid[idx-60:,:]\n",
        "\n",
        "print(\"_\"*50)\n",
        "print('-> data_train  shape = {0}'.format(data_train.shape))\n",
        "print('-> data_test   shape = {0}'.format(data_test.shape))\n",
        "print(\"_\"*50)"
      ]
    },
    {
      "cell_type": "code",
      "execution_count": 20,
      "metadata": {
        "colab": {
          "base_uri": "https://localhost:8080/"
        },
        "id": "HyMDq-7-BRaN",
        "outputId": "bfbad4b8-1e22-45e3-f8ec-6b2076e35f09"
      },
      "outputs": [
        {
          "output_type": "stream",
          "name": "stdout",
          "text": [
            "__________________________________________________\n",
            "-> x_train  shape = (2036, 60, 2)\n",
            "-> y_train   shape = (2036,)\n",
            "__________________________________________________\n",
            "__________________________________________________\n",
            "-> x_test  shape = (898, 60, 2)\n",
            "-> y_test   shape = (898,)\n",
            "__________________________________________________\n"
          ]
        }
      ],
      "source": [
        "#create window\n",
        "\n",
        "x_train, y_train = [], []\n",
        "for i in range(win,data_train.shape[0]):\n",
        "    x_train.append(data_train[i-win:i,:])\n",
        "    y_train.append(data_train[i,0])\n",
        "x_train, y_train = np.array(x_train), np.array(y_train)\n",
        "\n",
        "print(\"_\"*50)\n",
        "print('-> x_train  shape = {0}'.format(x_train.shape))\n",
        "print('-> y_train   shape = {0}'.format(y_train.shape))\n",
        "print(\"_\"*50)\n",
        "\n",
        "#create window test\n",
        "x_test, y_test = [], []\n",
        "for i in range(win,data_test.shape[0]):\n",
        "    x_test.append(data_test[i-win:i,:])\n",
        "    y_test.append(data_test[i,0])\n",
        "x_test, y_test = np.array(x_test), np.array(y_test)\n",
        "\n",
        "print(\"_\"*50)\n",
        "print('-> x_test  shape = {0}'.format(x_test.shape))\n",
        "print('-> y_test   shape = {0}'.format(y_test.shape))\n",
        "print(\"_\"*50)"
      ]
    },
    {
      "cell_type": "code",
      "execution_count": 21,
      "metadata": {
        "colab": {
          "base_uri": "https://localhost:8080/",
          "height": 424
        },
        "id": "tL0kv8_dEnR7",
        "outputId": "be9f95ea-792c-4f5f-ee9a-bace99590cfe"
      },
      "outputs": [
        {
          "output_type": "display_data",
          "data": {
            "text/plain": [
              "<Figure size 576x432 with 1 Axes>"
            ],
            "image/png": "[encoded data removed]"
          },
          "metadata": {
            "needs_background": "light"
          }
        }
      ],
      "source": [
        "from matplotlib.dates import DateFormatter\n",
        "fig, ax = plt.subplots(figsize=(8,6))\n",
        "ax.plot(data_main[\"date\"][win:idx],y_train)\n",
        "myFmt = DateFormatter(\"%Y-%m-%d\")\n",
        "ax.xaxis.set_major_formatter(myFmt)\n",
        "plt.setp(ax.get_xticklabels(), rotation = 15)\n",
        "plt.title(\"train data\")\n",
        "plt.xlabel('Date', fontsize=15)\n",
        "plt.ylabel('Value', fontsize=15)\n",
        "plt.show()"
      ]
    },
    {
      "cell_type": "code",
      "execution_count": 22,
      "metadata": {
        "colab": {
          "base_uri": "https://localhost:8080/",
          "height": 424
        },
        "id": "SqSytw1XFQt-",
        "outputId": "77c5f0cb-48bc-49cc-ebee-13a30776d842"
      },
      "outputs": [
        {
          "output_type": "display_data",
          "data": {
            "text/plain": [
              "<Figure size 576x432 with 1 Axes>"
            ],
            "image/png": "[encoded data removed]"
          },
          "metadata": {
            "needs_background": "light"
          }
        }
      ],
      "source": [
        "from matplotlib.dates import DateFormatter\n",
        "fig, ax = plt.subplots(figsize=(8,6))\n",
        "ax.plot(data_main[\"date\"][idx:],y_test)\n",
        "myFmt = DateFormatter(\"%Y-%m-%d\")\n",
        "ax.xaxis.set_major_formatter(myFmt)\n",
        "plt.setp(ax.get_xticklabels(), rotation = 15)\n",
        "plt.title(\"test data\")\n",
        "plt.xlabel('Date', fontsize=15)\n",
        "plt.ylabel('Value', fontsize=15)\n",
        "plt.show()"
      ]
    },
    {
      "cell_type": "code",
      "execution_count": 23,
      "metadata": {
        "colab": {
          "base_uri": "https://localhost:8080/",
          "height": 424
        },
        "id": "nYEM19MEFVxN",
        "outputId": "52443f36-47fe-4b0d-d65a-9b3eb53b5ef0"
      },
      "outputs": [
        {
          "output_type": "display_data",
          "data": {
            "text/plain": [
              "<Figure size 576x432 with 1 Axes>"
            ],
            "image/png": "[encoded data removed]"
          },
          "metadata": {
            "needs_background": "light"
          }
        }
      ],
      "source": [
        "from matplotlib.dates import DateFormatter\n",
        "fig, ax = plt.subplots(figsize=(8,6))\n",
        "ax.plot(data_main[\"date\"],data_ready[\"Close\"])\n",
        "myFmt = DateFormatter(\"%Y-%m-%d\")\n",
        "ax.xaxis.set_major_formatter(myFmt)\n",
        "plt.setp(ax.get_xticklabels(), rotation = 15)\n",
        "plt.title(\"all data\")\n",
        "plt.xlabel('Date', fontsize=15)\n",
        "plt.ylabel('Value', fontsize=15)\n",
        "plt.show()"
      ]
    },
    {
      "cell_type": "code",
      "execution_count": 24,
      "metadata": {
        "colab": {
          "base_uri": "https://localhost:8080/",
          "height": 424
        },
        "id": "TVAh5HbgYMKS",
        "outputId": "452a9237-f38b-40c1-f06f-eaef10a64a23"
      },
      "outputs": [
        {
          "output_type": "display_data",
          "data": {
            "text/plain": [
              "<Figure size 576x432 with 1 Axes>"
            ],
            "image/png": "[encoded data removed]"
          },
          "metadata": {
            "needs_background": "light"
          }
        }
      ],
      "source": [
        "from matplotlib.dates import DateFormatter\n",
        "fig, ax = plt.subplots(figsize=(8,6))\n",
        "ax.plot(data_main[\"date\"][win:idx],y_train)\n",
        "ax.plot(data_main[\"date\"][idx:],y_test)\n",
        "myFmt = DateFormatter(\"%Y-%m-%d\")\n",
        "ax.xaxis.set_major_formatter(myFmt)\n",
        "plt.setp(ax.get_xticklabels(), rotation = 15)\n",
        "plt.title(\"test data\")\n",
        "plt.xlabel('Date', fontsize=15)\n",
        "plt.ylabel('Value', fontsize=15)\n",
        "plt.show()"
      ]
    },
    {
      "cell_type": "markdown",
      "metadata": {
        "id": "89S4dJnSD9zH"
      },
      "source": [
        "# **LSTM**"
      ]
    },
    {
      "cell_type": "code",
      "execution_count": 24,
      "metadata": {
        "id": "rxPY7BYKi4nL"
      },
      "outputs": [],
      "source": []
    },
    {
      "cell_type": "code",
      "execution_count": 25,
      "metadata": {
        "colab": {
          "base_uri": "https://localhost:8080/"
        },
        "id": "-0L9KQG5E2Hs",
        "outputId": "cfe35008-f008-415a-a219-51cce7ea56d2"
      },
      "outputs": [
        {
          "output_type": "stream",
          "name": "stdout",
          "text": [
            "Model: \"sequential\"\n",
            "_________________________________________________________________\n",
            " Layer (type)                Output Shape              Param #   \n",
            "=================================================================\n",
            " lstm (LSTM)                 (None, 60, 250)           253000    \n",
            "                                                                 \n",
            " lstm_1 (LSTM)               (None, 250)               501000    \n",
            "                                                                 \n",
            " dropout (Dropout)           (None, 250)               0         \n",
            "                                                                 \n",
            " dense (Dense)               (None, 1)                 251       \n",
            "                                                                 \n",
            "=================================================================\n",
            "Total params: 754,251\n",
            "Trainable params: 754,251\n",
            "Non-trainable params: 0\n",
            "_________________________________________________________________\n"
          ]
        }
      ],
      "source": [
        "from keras.models import Sequential\n",
        "from keras.layers import LSTM\n",
        "from keras.layers import Dense\n",
        "from keras.layers import Dropout\n",
        "from keras.layers import BatchNormalization\n",
        "from tensorflow import keras\n",
        "\n",
        "\n",
        "#initialisizng the model \n",
        "lstm_model= Sequential()\n",
        "lstm_model.add(LSTM(units=250,return_sequences=True,\n",
        "                    input_shape=(x_train.shape[1],x_train.shape[2])))\n",
        "lstm_model.add(LSTM(units=250))\n",
        "lstm_model.add(Dropout(0.25)) #avoid overfitting in LSTM\n",
        "lstm_model.add(Dense(units=1))\n",
        "\n",
        "#----- compile model\n",
        "opt = keras.optimizers.Adam(learning_rate=0.0001)\n",
        "lstm_model.compile(optimizer='adam',loss='mean_squared_error')\n",
        "lstm_model.summary()\n",
        "\n"
      ]
    },
    {
      "cell_type": "code",
      "execution_count": 26,
      "metadata": {
        "colab": {
          "base_uri": "https://localhost:8080/"
        },
        "id": "EUR1JkU2E73s",
        "outputId": "5726c507-209d-4abf-cd98-29fe4c6455a9"
      },
      "outputs": [
        {
          "output_type": "stream",
          "name": "stdout",
          "text": [
            "Epoch 1/100\n",
            "8/8 [==============================] - 8s 161ms/step - loss: 0.1031 - val_loss: 0.3561\n",
            "Epoch 2/100\n",
            "8/8 [==============================] - 0s 38ms/step - loss: 0.0195 - val_loss: 0.1280\n",
            "Epoch 3/100\n",
            "8/8 [==============================] - 0s 63ms/step - loss: 0.0094 - val_loss: 0.0159\n",
            "Epoch 4/100\n",
            "8/8 [==============================] - 0s 46ms/step - loss: 0.0050 - val_loss: 0.0372\n",
            "Epoch 5/100\n",
            "8/8 [==============================] - 0s 39ms/step - loss: 0.0031 - val_loss: 0.0339\n",
            "Epoch 6/100\n",
            "8/8 [==============================] - 1s 72ms/step - loss: 0.0024 - val_loss: 0.0123\n",
            "Epoch 7/100\n",
            "8/8 [==============================] - 0s 39ms/step - loss: 0.0023 - val_loss: 0.0171\n",
            "Epoch 8/100\n",
            "8/8 [==============================] - 0s 37ms/step - loss: 0.0021 - val_loss: 0.0266\n",
            "Epoch 9/100\n",
            "8/8 [==============================] - 0s 36ms/step - loss: 0.0019 - val_loss: 0.0237\n",
            "Epoch 10/100\n",
            "8/8 [==============================] - 0s 36ms/step - loss: 0.0018 - val_loss: 0.0159\n",
            "Epoch 11/100\n",
            "8/8 [==============================] - 0s 36ms/step - loss: 0.0019 - val_loss: 0.0134\n",
            "Epoch 12/100\n",
            "8/8 [==============================] - 0s 37ms/step - loss: 0.0018 - val_loss: 0.0141\n",
            "Epoch 13/100\n",
            "8/8 [==============================] - 0s 36ms/step - loss: 0.0017 - val_loss: 0.0139\n",
            "Epoch 14/100\n",
            "8/8 [==============================] - 0s 36ms/step - loss: 0.0016 - val_loss: 0.0100\n",
            "Epoch 15/100\n",
            "8/8 [==============================] - 0s 36ms/step - loss: 0.0017 - val_loss: 0.0105\n",
            "Epoch 16/100\n",
            "8/8 [==============================] - 0s 36ms/step - loss: 0.0016 - val_loss: 0.0093\n",
            "Epoch 17/100\n",
            "8/8 [==============================] - 0s 36ms/step - loss: 0.0016 - val_loss: 0.0071\n",
            "Epoch 18/100\n",
            "8/8 [==============================] - 0s 37ms/step - loss: 0.0016 - val_loss: 0.0072\n",
            "Epoch 19/100\n",
            "8/8 [==============================] - 0s 36ms/step - loss: 0.0016 - val_loss: 0.0065\n",
            "Epoch 20/100\n",
            "8/8 [==============================] - 0s 38ms/step - loss: 0.0015 - val_loss: 0.0069\n",
            "Epoch 21/100\n",
            "8/8 [==============================] - 0s 36ms/step - loss: 0.0015 - val_loss: 0.0054\n",
            "Epoch 22/100\n",
            "8/8 [==============================] - 0s 36ms/step - loss: 0.0015 - val_loss: 0.0055\n",
            "Epoch 23/100\n",
            "8/8 [==============================] - 0s 37ms/step - loss: 0.0015 - val_loss: 0.0049\n",
            "Epoch 24/100\n",
            "8/8 [==============================] - 0s 37ms/step - loss: 0.0015 - val_loss: 0.0045\n",
            "Epoch 25/100\n",
            "8/8 [==============================] - 0s 37ms/step - loss: 0.0015 - val_loss: 0.0044\n",
            "Epoch 26/100\n",
            "8/8 [==============================] - 0s 37ms/step - loss: 0.0015 - val_loss: 0.0042\n",
            "Epoch 27/100\n",
            "8/8 [==============================] - 0s 36ms/step - loss: 0.0015 - val_loss: 0.0043\n",
            "Epoch 28/100\n",
            "8/8 [==============================] - 0s 37ms/step - loss: 0.0014 - val_loss: 0.0045\n",
            "Epoch 29/100\n",
            "8/8 [==============================] - 0s 36ms/step - loss: 0.0014 - val_loss: 0.0040\n",
            "Epoch 30/100\n",
            "8/8 [==============================] - 0s 37ms/step - loss: 0.0014 - val_loss: 0.0041\n",
            "Epoch 31/100\n",
            "8/8 [==============================] - 0s 37ms/step - loss: 0.0015 - val_loss: 0.0039\n",
            "Epoch 32/100\n",
            "8/8 [==============================] - 0s 40ms/step - loss: 0.0015 - val_loss: 0.0039\n",
            "Epoch 33/100\n",
            "8/8 [==============================] - 0s 36ms/step - loss: 0.0015 - val_loss: 0.0038\n",
            "Epoch 34/100\n",
            "8/8 [==============================] - 0s 36ms/step - loss: 0.0014 - val_loss: 0.0038\n",
            "Epoch 35/100\n",
            "8/8 [==============================] - 0s 38ms/step - loss: 0.0013 - val_loss: 0.0039\n",
            "Epoch 36/100\n",
            "8/8 [==============================] - 0s 45ms/step - loss: 0.0014 - val_loss: 0.0038\n",
            "Epoch 37/100\n",
            "8/8 [==============================] - 0s 38ms/step - loss: 0.0014 - val_loss: 0.0038\n",
            "Epoch 38/100\n",
            "8/8 [==============================] - 0s 37ms/step - loss: 0.0014 - val_loss: 0.0038\n",
            "Epoch 39/100\n",
            "8/8 [==============================] - 0s 36ms/step - loss: 0.0013 - val_loss: 0.0038\n",
            "Epoch 40/100\n",
            "8/8 [==============================] - 0s 37ms/step - loss: 0.0013 - val_loss: 0.0038\n",
            "Epoch 41/100\n",
            "8/8 [==============================] - 0s 37ms/step - loss: 0.0013 - val_loss: 0.0038\n",
            "Epoch 42/100\n",
            "8/8 [==============================] - 0s 36ms/step - loss: 0.0013 - val_loss: 0.0039\n",
            "Epoch 43/100\n",
            "8/8 [==============================] - 0s 38ms/step - loss: 0.0014 - val_loss: 0.0038\n",
            "Epoch 44/100\n",
            "8/8 [==============================] - 0s 37ms/step - loss: 0.0014 - val_loss: 0.0041\n",
            "Epoch 45/100\n",
            "8/8 [==============================] - 0s 37ms/step - loss: 0.0016 - val_loss: 0.0039\n",
            "Epoch 46/100\n",
            "8/8 [==============================] - 0s 37ms/step - loss: 0.0016 - val_loss: 0.0037\n",
            "Epoch 47/100\n",
            "8/8 [==============================] - 0s 37ms/step - loss: 0.0014 - val_loss: 0.0037\n",
            "Epoch 48/100\n",
            "8/8 [==============================] - 0s 37ms/step - loss: 0.0013 - val_loss: 0.0036\n",
            "Epoch 49/100\n",
            "8/8 [==============================] - 0s 40ms/step - loss: 0.0014 - val_loss: 0.0036\n",
            "Epoch 50/100\n",
            "8/8 [==============================] - 0s 37ms/step - loss: 0.0014 - val_loss: 0.0036\n",
            "Epoch 51/100\n",
            "8/8 [==============================] - 0s 37ms/step - loss: 0.0013 - val_loss: 0.0038\n",
            "Epoch 52/100\n",
            "8/8 [==============================] - 0s 36ms/step - loss: 0.0013 - val_loss: 0.0036\n",
            "Epoch 53/100\n",
            "8/8 [==============================] - 0s 37ms/step - loss: 0.0013 - val_loss: 0.0037\n",
            "Epoch 54/100\n",
            "8/8 [==============================] - 0s 36ms/step - loss: 0.0014 - val_loss: 0.0038\n",
            "Epoch 55/100\n",
            "8/8 [==============================] - 0s 36ms/step - loss: 0.0013 - val_loss: 0.0037\n",
            "Epoch 56/100\n",
            "8/8 [==============================] - 0s 37ms/step - loss: 0.0013 - val_loss: 0.0041\n",
            "Epoch 57/100\n",
            "8/8 [==============================] - 0s 37ms/step - loss: 0.0013 - val_loss: 0.0035\n",
            "Epoch 58/100\n",
            "8/8 [==============================] - 0s 37ms/step - loss: 0.0013 - val_loss: 0.0038\n",
            "Epoch 59/100\n",
            "8/8 [==============================] - 0s 37ms/step - loss: 0.0013 - val_loss: 0.0038\n",
            "Epoch 60/100\n",
            "8/8 [==============================] - 0s 37ms/step - loss: 0.0014 - val_loss: 0.0038\n",
            "Epoch 61/100\n",
            "8/8 [==============================] - 0s 37ms/step - loss: 0.0013 - val_loss: 0.0036\n",
            "Epoch 62/100\n",
            "8/8 [==============================] - 0s 37ms/step - loss: 0.0013 - val_loss: 0.0037\n",
            "Epoch 63/100\n",
            "8/8 [==============================] - 0s 36ms/step - loss: 0.0013 - val_loss: 0.0036\n",
            "Epoch 64/100\n",
            "8/8 [==============================] - 0s 38ms/step - loss: 0.0014 - val_loss: 0.0037\n",
            "Epoch 65/100\n",
            "8/8 [==============================] - 0s 37ms/step - loss: 0.0014 - val_loss: 0.0040\n",
            "Epoch 66/100\n",
            "8/8 [==============================] - 0s 37ms/step - loss: 0.0015 - val_loss: 0.0034\n",
            "Epoch 67/100\n",
            "8/8 [==============================] - 0s 37ms/step - loss: 0.0015 - val_loss: 0.0037\n",
            "Epoch 68/100\n",
            "8/8 [==============================] - 0s 40ms/step - loss: 0.0014 - val_loss: 0.0034\n",
            "Epoch 69/100\n",
            "8/8 [==============================] - 0s 36ms/step - loss: 0.0014 - val_loss: 0.0036\n",
            "Epoch 70/100\n",
            "8/8 [==============================] - 0s 37ms/step - loss: 0.0012 - val_loss: 0.0034\n",
            "Epoch 71/100\n",
            "8/8 [==============================] - 0s 37ms/step - loss: 0.0014 - val_loss: 0.0035\n",
            "Epoch 72/100\n",
            "8/8 [==============================] - 0s 38ms/step - loss: 0.0013 - val_loss: 0.0033\n",
            "Epoch 73/100\n",
            "8/8 [==============================] - 0s 37ms/step - loss: 0.0013 - val_loss: 0.0034\n",
            "Epoch 74/100\n",
            "8/8 [==============================] - 0s 37ms/step - loss: 0.0013 - val_loss: 0.0033\n",
            "Epoch 75/100\n",
            "8/8 [==============================] - 0s 37ms/step - loss: 0.0013 - val_loss: 0.0033\n",
            "Epoch 76/100\n",
            "8/8 [==============================] - 0s 37ms/step - loss: 0.0013 - val_loss: 0.0033\n",
            "Epoch 77/100\n",
            "8/8 [==============================] - 0s 37ms/step - loss: 0.0013 - val_loss: 0.0034\n",
            "Epoch 78/100\n",
            "8/8 [==============================] - 0s 38ms/step - loss: 0.0013 - val_loss: 0.0033\n",
            "Epoch 79/100\n",
            "8/8 [==============================] - 0s 37ms/step - loss: 0.0013 - val_loss: 0.0032\n",
            "Epoch 80/100\n",
            "8/8 [==============================] - 0s 37ms/step - loss: 0.0012 - val_loss: 0.0034\n",
            "Epoch 81/100\n",
            "8/8 [==============================] - 0s 37ms/step - loss: 0.0014 - val_loss: 0.0033\n",
            "Epoch 82/100\n",
            "8/8 [==============================] - 0s 37ms/step - loss: 0.0014 - val_loss: 0.0033\n",
            "Epoch 83/100\n",
            "8/8 [==============================] - 0s 37ms/step - loss: 0.0013 - val_loss: 0.0032\n",
            "Epoch 84/100\n",
            "8/8 [==============================] - 0s 37ms/step - loss: 0.0012 - val_loss: 0.0032\n",
            "Epoch 85/100\n",
            "8/8 [==============================] - 0s 37ms/step - loss: 0.0014 - val_loss: 0.0032\n",
            "Epoch 86/100\n",
            "8/8 [==============================] - 0s 37ms/step - loss: 0.0012 - val_loss: 0.0032\n",
            "Epoch 87/100\n",
            "8/8 [==============================] - 0s 37ms/step - loss: 0.0013 - val_loss: 0.0032\n",
            "Epoch 88/100\n",
            "8/8 [==============================] - 0s 38ms/step - loss: 0.0012 - val_loss: 0.0032\n",
            "Epoch 89/100\n",
            "8/8 [==============================] - 0s 37ms/step - loss: 0.0013 - val_loss: 0.0035\n",
            "Epoch 90/100\n",
            "8/8 [==============================] - 0s 37ms/step - loss: 0.0014 - val_loss: 0.0032\n",
            "Epoch 91/100\n",
            "8/8 [==============================] - 0s 37ms/step - loss: 0.0013 - val_loss: 0.0031\n",
            "Epoch 92/100\n",
            "8/8 [==============================] - 0s 37ms/step - loss: 0.0013 - val_loss: 0.0032\n",
            "Epoch 93/100\n",
            "8/8 [==============================] - 0s 37ms/step - loss: 0.0013 - val_loss: 0.0031\n",
            "Epoch 94/100\n",
            "8/8 [==============================] - 0s 37ms/step - loss: 0.0013 - val_loss: 0.0031\n",
            "Epoch 95/100\n",
            "8/8 [==============================] - 0s 37ms/step - loss: 0.0012 - val_loss: 0.0031\n",
            "Epoch 96/100\n",
            "8/8 [==============================] - 0s 38ms/step - loss: 0.0013 - val_loss: 0.0032\n",
            "Epoch 97/100\n",
            "8/8 [==============================] - 0s 37ms/step - loss: 0.0012 - val_loss: 0.0031\n",
            "Epoch 98/100\n",
            "8/8 [==============================] - 0s 38ms/step - loss: 0.0012 - val_loss: 0.0031\n",
            "Epoch 99/100\n",
            "8/8 [==============================] - 0s 37ms/step - loss: 0.0012 - val_loss: 0.0031\n",
            "Epoch 100/100\n",
            "8/8 [==============================] - 0s 37ms/step - loss: 0.0012 - val_loss: 0.0031\n"
          ]
        }
      ],
      "source": [
        "hist_lstm_model=lstm_model.fit(x_train,y_train,epochs=100,\n",
        "                        validation_data=(x_test,y_test)\n",
        "                        ,batch_size=256)"
      ]
    },
    {
      "cell_type": "code",
      "execution_count": 27,
      "metadata": {
        "id": "F3D4oBiRNAie"
      },
      "outputs": [],
      "source": [
        "result_array=[]\n",
        "algorithm_name=[]"
      ]
    },
    {
      "cell_type": "code",
      "execution_count": 28,
      "metadata": {
        "colab": {
          "base_uri": "https://localhost:8080/"
        },
        "id": "tu6iBcmO3-RO",
        "outputId": "10d973f9-4679-426a-e967-aaad341dd385"
      },
      "outputs": [
        {
          "output_type": "stream",
          "name": "stdout",
          "text": [
            "29/29 [==============================] - 1s 5ms/step\n"
          ]
        }
      ],
      "source": [
        "from sklearn import metrics\n",
        "import math\n",
        "\n",
        "y_pred=lstm_model.predict(x_test)\n",
        "lbl_real=y_test\n",
        "\n",
        "mse=metrics.mean_squared_error(lbl_real, y_pred)\n",
        "rmse = math.sqrt(mse)\n",
        "mape=metrics.mean_absolute_percentage_error(lbl_real, y_pred)\n",
        "mae=metrics.mean_absolute_error(lbl_real,y_pred)\n",
        "r2= metrics.r2_score(lbl_real, y_pred)\n",
        "\n",
        "# acc error\n",
        "err = abs(y_test- y_pred)\n",
        "diff = sum(err) / len(err)\n",
        "accr = 100 - np.mean(diff)\n",
        "\n",
        "result_array.append([mse,rmse,mape,mae,r2,accr])\n",
        "algorithm_name.append(\"LSTM\")\n"
      ]
    },
    {
      "cell_type": "code",
      "execution_count": 29,
      "metadata": {
        "id": "XYUMTIkzbigf"
      },
      "outputs": [],
      "source": [
        "from sklearn.preprocessing import MinMaxScaler\n",
        "data_normal=data_ready.copy()\n",
        "sce=MinMaxScaler(feature_range=(-1,1))\n",
        "data_col=data_ready[\"Close\"].values.reshape(-1,1)\n",
        "sce.fit(data_col)\n",
        "y_train_real  = sce.transform(y_train.reshape(-1,1))\n",
        "y_test_real  = sce.transform(y_test.reshape(-1,1))\n",
        "pred_real=sce.transform(y_pred.reshape(-1,1))"
      ]
    },
    {
      "cell_type": "code",
      "execution_count": 30,
      "metadata": {
        "colab": {
          "base_uri": "https://localhost:8080/",
          "height": 419
        },
        "id": "-vr2tUu5cf9J",
        "outputId": "cbd5a6a2-a376-4c6d-b369-003aea207b7d"
      },
      "outputs": [
        {
          "output_type": "display_data",
          "data": {
            "text/plain": [
              "<Figure size 864x432 with 1 Axes>"
            ],
            "image/png": "[encoded data removed]"
          },
          "metadata": {
            "needs_background": "light"
          }
        }
      ],
      "source": [
        "from matplotlib.dates import DateFormatter\n",
        "fig, ax = plt.subplots(figsize=(12,6))\n",
        "ax.plot(data_main[\"date\"][win:idx],y_train_real)\n",
        "ax.plot(data_main[\"date\"][idx:],y_test_real)\n",
        "ax.plot(data_main[\"date\"][idx:],pred_real)\n",
        "myFmt = DateFormatter(\"%Y-%m-%d\")\n",
        "ax.xaxis.set_major_formatter(myFmt)\n",
        "plt.setp(ax.get_xticklabels(), rotation = 15)\n",
        "plt.legend([\"train\",\"test\",\"predict\"])\n",
        "plt.title(\"prediction by LSTM\")\n",
        "plt.xlabel('Date', fontsize=10)\n",
        "plt.ylabel('Value', fontsize=10)\n",
        "plt.show()"
      ]
    },
    {
      "cell_type": "markdown",
      "metadata": {
        "id": "uGwqJI9Y1cn5"
      },
      "source": [
        "# **CNN**"
      ]
    },
    {
      "cell_type": "code",
      "execution_count": 31,
      "metadata": {
        "colab": {
          "base_uri": "https://localhost:8080/"
        },
        "id": "_wUxRC341sJ3",
        "outputId": "f88406da-24ec-46e5-a5e3-b45622679374"
      },
      "outputs": [
        {
          "output_type": "execute_result",
          "data": {
            "text/plain": [
              "(2036, 60, 2)"
            ]
          },
          "metadata": {},
          "execution_count": 31
        }
      ],
      "source": [
        "x_train.shape"
      ]
    },
    {
      "cell_type": "code",
      "execution_count": 32,
      "metadata": {
        "colab": {
          "base_uri": "https://localhost:8080/"
        },
        "id": "BXWGrQJb1ixC",
        "outputId": "36786999-dcf5-4970-9acf-097f30871e79"
      },
      "outputs": [
        {
          "output_type": "stream",
          "name": "stdout",
          "text": [
            "Model: \"sequential_1\"\n",
            "_________________________________________________________________\n",
            " Layer (type)                Output Shape              Param #   \n",
            "=================================================================\n",
            " conv2d (Conv2D)             (None, 30, 2, 128)        640       \n",
            "                                                                 \n",
            " conv2d_1 (Conv2D)           (None, 15, 2, 256)        131328    \n",
            "                                                                 \n",
            " average_pooling2d (AverageP  (None, 7, 1, 256)        0         \n",
            " ooling2D)                                                       \n",
            "                                                                 \n",
            " flatten (Flatten)           (None, 1792)              0         \n",
            "                                                                 \n",
            " dropout_1 (Dropout)         (None, 1792)              0         \n",
            "                                                                 \n",
            " dense_1 (Dense)             (None, 1)                 1793      \n",
            "                                                                 \n",
            "=================================================================\n",
            "Total params: 133,761\n",
            "Trainable params: 133,761\n",
            "Non-trainable params: 0\n",
            "_________________________________________________________________\n"
          ]
        }
      ],
      "source": [
        "from keras.models import Sequential\n",
        "from keras.layers import Conv2D,AveragePooling2D\n",
        "from keras.layers import Flatten\n",
        "from keras.layers import Dense\n",
        "from keras.layers import Dropout\n",
        "from keras.layers import BatchNormalization\n",
        "from tensorflow import keras\n",
        "\n",
        "\n",
        "#initialisizng the model \n",
        "cnn_model= Sequential()\n",
        "cnn_model.add(Conv2D(filters=128,kernel_size=(2,2),strides=(2,1), padding=\"same\",\n",
        "                      input_shape=(x_train.shape[1],x_train.shape[2],1)))\n",
        "cnn_model.add(Conv2D(filters=256,kernel_size=(2,2),strides=(2,1),padding=\"same\"))\n",
        "cnn_model.add(AveragePooling2D(pool_size=2))\n",
        "cnn_model.add(Flatten())\n",
        "cnn_model.add(Dropout(0.01)) \n",
        "cnn_model.add(Dense(units=1))\n",
        "\n",
        "#----- compile model\n",
        "opt = keras.optimizers.Adam(learning_rate=0.0001)\n",
        "cnn_model.compile(optimizer='adam',loss='mean_squared_error')\n",
        "cnn_model.summary()\n",
        "\n"
      ]
    },
    {
      "cell_type": "code",
      "execution_count": 33,
      "metadata": {
        "colab": {
          "base_uri": "https://localhost:8080/"
        },
        "id": "n3_GYo-21ixE",
        "outputId": "92fa6756-f5a0-4ab1-fc27-38a321900dad"
      },
      "outputs": [
        {
          "output_type": "stream",
          "name": "stdout",
          "text": [
            "Epoch 1/100\n",
            "8/8 [==============================] - 4s 56ms/step - loss: 0.1743 - val_loss: 0.4431\n",
            "Epoch 2/100\n",
            "8/8 [==============================] - 0s 10ms/step - loss: 0.0578 - val_loss: 0.8574\n",
            "Epoch 3/100\n",
            "8/8 [==============================] - 0s 10ms/step - loss: 0.0295 - val_loss: 0.4955\n",
            "Epoch 4/100\n",
            "8/8 [==============================] - 0s 10ms/step - loss: 0.0221 - val_loss: 0.5993\n",
            "Epoch 5/100\n",
            "8/8 [==============================] - 0s 10ms/step - loss: 0.0171 - val_loss: 0.4141\n",
            "Epoch 6/100\n",
            "8/8 [==============================] - 0s 11ms/step - loss: 0.0140 - val_loss: 0.4045\n",
            "Epoch 7/100\n",
            "8/8 [==============================] - 0s 9ms/step - loss: 0.0113 - val_loss: 0.2813\n",
            "Epoch 8/100\n",
            "8/8 [==============================] - 0s 28ms/step - loss: 0.0087 - val_loss: 0.2145\n",
            "Epoch 9/100\n",
            "8/8 [==============================] - 0s 31ms/step - loss: 0.0065 - val_loss: 0.1531\n",
            "Epoch 10/100\n",
            "8/8 [==============================] - 0s 21ms/step - loss: 0.0047 - val_loss: 0.0860\n",
            "Epoch 11/100\n",
            "8/8 [==============================] - 0s 15ms/step - loss: 0.0032 - val_loss: 0.0424\n",
            "Epoch 12/100\n",
            "8/8 [==============================] - 0s 9ms/step - loss: 0.0021 - val_loss: 0.0215\n",
            "Epoch 13/100\n",
            "8/8 [==============================] - 0s 9ms/step - loss: 0.0016 - val_loss: 0.0155\n",
            "Epoch 14/100\n",
            "8/8 [==============================] - 0s 11ms/step - loss: 0.0013 - val_loss: 0.0167\n",
            "Epoch 15/100\n",
            "8/8 [==============================] - 0s 9ms/step - loss: 0.0012 - val_loss: 0.0192\n",
            "Epoch 16/100\n",
            "8/8 [==============================] - 0s 9ms/step - loss: 0.0011 - val_loss: 0.0201\n",
            "Epoch 17/100\n",
            "8/8 [==============================] - 0s 17ms/step - loss: 0.0011 - val_loss: 0.0196\n",
            "Epoch 18/100\n",
            "8/8 [==============================] - 0s 21ms/step - loss: 0.0011 - val_loss: 0.0189\n",
            "Epoch 19/100\n",
            "8/8 [==============================] - 0s 28ms/step - loss: 0.0011 - val_loss: 0.0180\n",
            "Epoch 20/100\n",
            "8/8 [==============================] - 0s 24ms/step - loss: 0.0011 - val_loss: 0.0172\n",
            "Epoch 21/100\n",
            "8/8 [==============================] - 0s 19ms/step - loss: 0.0011 - val_loss: 0.0167\n",
            "Epoch 22/100\n",
            "8/8 [==============================] - 0s 9ms/step - loss: 0.0011 - val_loss: 0.0170\n",
            "Epoch 23/100\n",
            "8/8 [==============================] - 0s 9ms/step - loss: 0.0011 - val_loss: 0.0166\n",
            "Epoch 24/100\n",
            "8/8 [==============================] - 0s 10ms/step - loss: 0.0010 - val_loss: 0.0163\n",
            "Epoch 25/100\n",
            "8/8 [==============================] - 0s 9ms/step - loss: 0.0010 - val_loss: 0.0161\n",
            "Epoch 26/100\n",
            "8/8 [==============================] - 0s 9ms/step - loss: 0.0010 - val_loss: 0.0163\n",
            "Epoch 27/100\n",
            "8/8 [==============================] - 0s 11ms/step - loss: 0.0010 - val_loss: 0.0161\n",
            "Epoch 28/100\n",
            "8/8 [==============================] - 0s 32ms/step - loss: 0.0010 - val_loss: 0.0160\n",
            "Epoch 29/100\n",
            "8/8 [==============================] - 0s 27ms/step - loss: 0.0010 - val_loss: 0.0160\n",
            "Epoch 30/100\n",
            "8/8 [==============================] - 0s 26ms/step - loss: 0.0010 - val_loss: 0.0157\n",
            "Epoch 31/100\n",
            "8/8 [==============================] - 0s 13ms/step - loss: 0.0010 - val_loss: 0.0149\n",
            "Epoch 32/100\n",
            "8/8 [==============================] - 0s 11ms/step - loss: 0.0010 - val_loss: 0.0150\n",
            "Epoch 33/100\n",
            "8/8 [==============================] - 0s 10ms/step - loss: 9.6253e-04 - val_loss: 0.0148\n",
            "Epoch 34/100\n",
            "8/8 [==============================] - 0s 11ms/step - loss: 9.5949e-04 - val_loss: 0.0149\n",
            "Epoch 35/100\n",
            "8/8 [==============================] - 0s 11ms/step - loss: 9.4663e-04 - val_loss: 0.0145\n",
            "Epoch 36/100\n",
            "8/8 [==============================] - 0s 11ms/step - loss: 9.3284e-04 - val_loss: 0.0144\n",
            "Epoch 37/100\n",
            "8/8 [==============================] - 0s 11ms/step - loss: 9.3581e-04 - val_loss: 0.0144\n",
            "Epoch 38/100\n",
            "8/8 [==============================] - 0s 11ms/step - loss: 9.3363e-04 - val_loss: 0.0142\n",
            "Epoch 39/100\n",
            "8/8 [==============================] - 0s 11ms/step - loss: 9.0140e-04 - val_loss: 0.0141\n",
            "Epoch 40/100\n",
            "8/8 [==============================] - 0s 11ms/step - loss: 9.1821e-04 - val_loss: 0.0140\n",
            "Epoch 41/100\n",
            "8/8 [==============================] - 0s 10ms/step - loss: 9.1219e-04 - val_loss: 0.0136\n",
            "Epoch 42/100\n",
            "8/8 [==============================] - 0s 11ms/step - loss: 9.3875e-04 - val_loss: 0.0137\n",
            "Epoch 43/100\n",
            "8/8 [==============================] - 0s 11ms/step - loss: 9.3868e-04 - val_loss: 0.0131\n",
            "Epoch 44/100\n",
            "8/8 [==============================] - 0s 9ms/step - loss: 8.8383e-04 - val_loss: 0.0130\n",
            "Epoch 45/100\n",
            "8/8 [==============================] - 0s 11ms/step - loss: 8.7780e-04 - val_loss: 0.0130\n",
            "Epoch 46/100\n",
            "8/8 [==============================] - 0s 9ms/step - loss: 8.8401e-04 - val_loss: 0.0127\n",
            "Epoch 47/100\n",
            "8/8 [==============================] - 0s 11ms/step - loss: 8.4378e-04 - val_loss: 0.0127\n",
            "Epoch 48/100\n",
            "8/8 [==============================] - 0s 9ms/step - loss: 8.4443e-04 - val_loss: 0.0126\n",
            "Epoch 49/100\n",
            "8/8 [==============================] - 0s 11ms/step - loss: 8.5300e-04 - val_loss: 0.0125\n",
            "Epoch 50/100\n",
            "8/8 [==============================] - 0s 10ms/step - loss: 8.7431e-04 - val_loss: 0.0123\n",
            "Epoch 51/100\n",
            "8/8 [==============================] - 0s 9ms/step - loss: 8.6988e-04 - val_loss: 0.0121\n",
            "Epoch 52/100\n",
            "8/8 [==============================] - 0s 14ms/step - loss: 8.3430e-04 - val_loss: 0.0119\n",
            "Epoch 53/100\n",
            "8/8 [==============================] - 0s 10ms/step - loss: 8.6029e-04 - val_loss: 0.0122\n",
            "Epoch 54/100\n",
            "8/8 [==============================] - 0s 10ms/step - loss: 8.5037e-04 - val_loss: 0.0117\n",
            "Epoch 55/100\n",
            "8/8 [==============================] - 0s 10ms/step - loss: 8.0545e-04 - val_loss: 0.0115\n",
            "Epoch 56/100\n",
            "8/8 [==============================] - 0s 9ms/step - loss: 8.0197e-04 - val_loss: 0.0114\n",
            "Epoch 57/100\n",
            "8/8 [==============================] - 0s 11ms/step - loss: 7.9973e-04 - val_loss: 0.0115\n",
            "Epoch 58/100\n",
            "8/8 [==============================] - 0s 9ms/step - loss: 7.8402e-04 - val_loss: 0.0114\n",
            "Epoch 59/100\n",
            "8/8 [==============================] - 0s 9ms/step - loss: 7.8487e-04 - val_loss: 0.0115\n",
            "Epoch 60/100\n",
            "8/8 [==============================] - 0s 9ms/step - loss: 7.9185e-04 - val_loss: 0.0109\n",
            "Epoch 61/100\n",
            "8/8 [==============================] - 0s 11ms/step - loss: 7.9126e-04 - val_loss: 0.0109\n",
            "Epoch 62/100\n",
            "8/8 [==============================] - 0s 9ms/step - loss: 7.6646e-04 - val_loss: 0.0107\n",
            "Epoch 63/100\n",
            "8/8 [==============================] - 0s 11ms/step - loss: 7.6238e-04 - val_loss: 0.0111\n",
            "Epoch 64/100\n",
            "8/8 [==============================] - 0s 9ms/step - loss: 7.9565e-04 - val_loss: 0.0107\n",
            "Epoch 65/100\n",
            "8/8 [==============================] - 0s 9ms/step - loss: 7.9091e-04 - val_loss: 0.0104\n",
            "Epoch 66/100\n",
            "8/8 [==============================] - 0s 11ms/step - loss: 7.6750e-04 - val_loss: 0.0104\n",
            "Epoch 67/100\n",
            "8/8 [==============================] - 0s 11ms/step - loss: 7.7573e-04 - val_loss: 0.0103\n",
            "Epoch 68/100\n",
            "8/8 [==============================] - 0s 10ms/step - loss: 7.3688e-04 - val_loss: 0.0103\n",
            "Epoch 69/100\n",
            "8/8 [==============================] - 0s 9ms/step - loss: 7.3094e-04 - val_loss: 0.0104\n",
            "Epoch 70/100\n",
            "8/8 [==============================] - 0s 11ms/step - loss: 7.3583e-04 - val_loss: 0.0103\n",
            "Epoch 71/100\n",
            "8/8 [==============================] - 0s 9ms/step - loss: 7.1943e-04 - val_loss: 0.0100\n",
            "Epoch 72/100\n",
            "8/8 [==============================] - 0s 9ms/step - loss: 7.3768e-04 - val_loss: 0.0100\n",
            "Epoch 73/100\n",
            "8/8 [==============================] - 0s 11ms/step - loss: 7.0926e-04 - val_loss: 0.0099\n",
            "Epoch 74/100\n",
            "8/8 [==============================] - 0s 9ms/step - loss: 7.2843e-04 - val_loss: 0.0098\n",
            "Epoch 75/100\n",
            "8/8 [==============================] - 0s 10ms/step - loss: 7.2647e-04 - val_loss: 0.0099\n",
            "Epoch 76/100\n",
            "8/8 [==============================] - 0s 9ms/step - loss: 7.2953e-04 - val_loss: 0.0095\n",
            "Epoch 77/100\n",
            "8/8 [==============================] - 0s 9ms/step - loss: 7.2904e-04 - val_loss: 0.0093\n",
            "Epoch 78/100\n",
            "8/8 [==============================] - 0s 12ms/step - loss: 7.5261e-04 - val_loss: 0.0096\n",
            "Epoch 79/100\n",
            "8/8 [==============================] - 0s 10ms/step - loss: 7.5347e-04 - val_loss: 0.0093\n",
            "Epoch 80/100\n",
            "8/8 [==============================] - 0s 10ms/step - loss: 7.0693e-04 - val_loss: 0.0093\n",
            "Epoch 81/100\n",
            "8/8 [==============================] - 0s 10ms/step - loss: 6.9368e-04 - val_loss: 0.0094\n",
            "Epoch 82/100\n",
            "8/8 [==============================] - 0s 10ms/step - loss: 6.7555e-04 - val_loss: 0.0094\n",
            "Epoch 83/100\n",
            "8/8 [==============================] - 0s 9ms/step - loss: 6.7700e-04 - val_loss: 0.0094\n",
            "Epoch 84/100\n",
            "8/8 [==============================] - 0s 9ms/step - loss: 7.0307e-04 - val_loss: 0.0092\n",
            "Epoch 85/100\n",
            "8/8 [==============================] - 0s 10ms/step - loss: 6.9115e-04 - val_loss: 0.0091\n",
            "Epoch 86/100\n",
            "8/8 [==============================] - 0s 11ms/step - loss: 6.7472e-04 - val_loss: 0.0089\n",
            "Epoch 87/100\n",
            "8/8 [==============================] - 0s 11ms/step - loss: 6.6979e-04 - val_loss: 0.0091\n",
            "Epoch 88/100\n",
            "8/8 [==============================] - 0s 9ms/step - loss: 7.2410e-04 - val_loss: 0.0092\n",
            "Epoch 89/100\n",
            "8/8 [==============================] - 0s 9ms/step - loss: 6.5698e-04 - val_loss: 0.0088\n",
            "Epoch 90/100\n",
            "8/8 [==============================] - 0s 9ms/step - loss: 6.7108e-04 - val_loss: 0.0087\n",
            "Epoch 91/100\n",
            "8/8 [==============================] - 0s 9ms/step - loss: 6.6469e-04 - val_loss: 0.0087\n",
            "Epoch 92/100\n",
            "8/8 [==============================] - 0s 9ms/step - loss: 6.7323e-04 - val_loss: 0.0088\n",
            "Epoch 93/100\n",
            "8/8 [==============================] - 0s 9ms/step - loss: 6.3688e-04 - val_loss: 0.0086\n",
            "Epoch 94/100\n",
            "8/8 [==============================] - 0s 10ms/step - loss: 6.4091e-04 - val_loss: 0.0086\n",
            "Epoch 95/100\n",
            "8/8 [==============================] - 0s 10ms/step - loss: 6.6677e-04 - val_loss: 0.0087\n",
            "Epoch 96/100\n",
            "8/8 [==============================] - 0s 9ms/step - loss: 6.7512e-04 - val_loss: 0.0090\n",
            "Epoch 97/100\n",
            "8/8 [==============================] - 0s 9ms/step - loss: 6.6148e-04 - val_loss: 0.0086\n",
            "Epoch 98/100\n",
            "8/8 [==============================] - 0s 9ms/step - loss: 6.8234e-04 - val_loss: 0.0084\n",
            "Epoch 99/100\n",
            "8/8 [==============================] - 0s 9ms/step - loss: 7.3369e-04 - val_loss: 0.0084\n",
            "Epoch 100/100\n",
            "8/8 [==============================] - 0s 9ms/step - loss: 6.8273e-04 - val_loss: 0.0082\n"
          ]
        }
      ],
      "source": [
        "hist_cnn_model=cnn_model.fit(x_train,y_train,epochs=100,\n",
        "                        validation_data=(x_test,y_test)\n",
        "                        ,batch_size=256)"
      ]
    },
    {
      "cell_type": "code",
      "execution_count": 34,
      "metadata": {
        "colab": {
          "base_uri": "https://localhost:8080/"
        },
        "id": "x30K9xOI1ixI",
        "outputId": "c620efc4-36e1-44a1-9858-61a2d256e7c1"
      },
      "outputs": [
        {
          "output_type": "stream",
          "name": "stdout",
          "text": [
            "29/29 [==============================] - 0s 2ms/step\n"
          ]
        }
      ],
      "source": [
        "from sklearn import metrics\n",
        "import math\n",
        "\n",
        "y_pred=cnn_model.predict(x_test)\n",
        "lbl_real=y_test\n",
        "\n",
        "mse=metrics.mean_squared_error(lbl_real, y_pred)\n",
        "rmse = math.sqrt(mse)\n",
        "mape=metrics.mean_absolute_percentage_error(lbl_real, y_pred)\n",
        "mae=metrics.mean_absolute_error(lbl_real,y_pred)\n",
        "r2= metrics.r2_score(lbl_real, y_pred)\n",
        "\n",
        "# acc error\n",
        "err = abs(y_test- y_pred)\n",
        "diff = sum(err) / len(err)\n",
        "accr = 100 - np.mean(diff)\n",
        "\n",
        "result_array.append([mse,rmse,mape,mae,r2,accr])\n",
        "algorithm_name.append(\"CNN\")\n"
      ]
    },
    {
      "cell_type": "code",
      "execution_count": 35,
      "metadata": {
        "id": "FPit_iQ41ixI"
      },
      "outputs": [],
      "source": [
        "from sklearn.preprocessing import MinMaxScaler\n",
        "data_normal=data_ready.copy()\n",
        "sce=MinMaxScaler(feature_range=(-1,1))\n",
        "data_col=data_ready[\"Close\"].values.reshape(-1,1)\n",
        "sce.fit(data_col)\n",
        "y_train_real  = sce.transform(y_train.reshape(-1,1))\n",
        "y_test_real  = sce.transform(y_test.reshape(-1,1))\n",
        "pred_real=sce.transform(y_pred.reshape(-1,1))"
      ]
    },
    {
      "cell_type": "code",
      "execution_count": 36,
      "metadata": {
        "colab": {
          "base_uri": "https://localhost:8080/",
          "height": 419
        },
        "id": "d3jMxP_z1ixJ",
        "outputId": "edd65f6f-15cf-4764-8624-14382ef3f935"
      },
      "outputs": [
        {
          "output_type": "display_data",
          "data": {
            "text/plain": [
              "<Figure size 864x432 with 1 Axes>"
            ],
            "image/png": "[encoded data removed]"
          },
          "metadata": {
            "needs_background": "light"
          }
        }
      ],
      "source": [
        "from matplotlib.dates import DateFormatter\n",
        "fig, ax = plt.subplots(figsize=(12,6))\n",
        "ax.plot(data_main[\"date\"][win:idx],y_train_real)\n",
        "ax.plot(data_main[\"date\"][idx:],y_test_real)\n",
        "ax.plot(data_main[\"date\"][idx:],pred_real)\n",
        "myFmt = DateFormatter(\"%Y-%m-%d\")\n",
        "ax.xaxis.set_major_formatter(myFmt)\n",
        "plt.setp(ax.get_xticklabels(), rotation = 15)\n",
        "plt.legend([\"train\",\"test\",\"predict\"])\n",
        "plt.title(\"prediction by CNN\")\n",
        "plt.xlabel('Date', fontsize=10)\n",
        "plt.ylabel('Value', fontsize=10)\n",
        "plt.show()"
      ]
    },
    {
      "cell_type": "markdown",
      "metadata": {
        "id": "VsQTc-aJ6noy"
      },
      "source": [
        "# **GRU**"
      ]
    },
    {
      "cell_type": "code",
      "execution_count": 37,
      "metadata": {
        "colab": {
          "base_uri": "https://localhost:8080/"
        },
        "id": "OPQ7IRRJ6no1",
        "outputId": "e8dba55b-b2d1-4850-f7d9-ad5e3e2241c0"
      },
      "outputs": [
        {
          "output_type": "stream",
          "name": "stdout",
          "text": [
            "Model: \"sequential_2\"\n",
            "_________________________________________________________________\n",
            " Layer (type)                Output Shape              Param #   \n",
            "=================================================================\n",
            " gru (GRU)                   (None, 60, 128)           50688     \n",
            "                                                                 \n",
            " gru_1 (GRU)                 (None, 256)               296448    \n",
            "                                                                 \n",
            " dropout_2 (Dropout)         (None, 256)               0         \n",
            "                                                                 \n",
            " dense_2 (Dense)             (None, 1)                 257       \n",
            "                                                                 \n",
            "=================================================================\n",
            "Total params: 347,393\n",
            "Trainable params: 347,393\n",
            "Non-trainable params: 0\n",
            "_________________________________________________________________\n"
          ]
        }
      ],
      "source": [
        "from keras.models import Sequential\n",
        "from keras.layers import GRU\n",
        "from keras.layers import Dense\n",
        "from keras.layers import Dropout\n",
        "from keras.layers import BatchNormalization\n",
        "from tensorflow import keras\n",
        "\n",
        "\n",
        "#initialisizng the model \n",
        "gru_model= Sequential()\n",
        "gru_model.add(GRU(units=128,return_sequences=True,\n",
        "                    input_shape=(x_train.shape[1],x_train.shape[2])))\n",
        "gru_model.add(GRU(units=256))\n",
        "gru_model.add(Dropout(0.3)) \n",
        "gru_model.add(Dense(units=1))\n",
        "\n",
        "#----- compile model\n",
        "opt = keras.optimizers.Adam(learning_rate=0.0001)\n",
        "gru_model.compile(optimizer='adam',loss='mean_squared_error')\n",
        "gru_model.summary()\n",
        "\n"
      ]
    },
    {
      "cell_type": "code",
      "execution_count": 38,
      "metadata": {
        "colab": {
          "base_uri": "https://localhost:8080/"
        },
        "id": "mMkoLs1T6no3",
        "outputId": "8cf1841d-a8b2-4cb4-f18c-a0842c8b8f58"
      },
      "outputs": [
        {
          "output_type": "stream",
          "name": "stdout",
          "text": [
            "Epoch 1/100\n",
            "8/8 [==============================] - 4s 151ms/step - loss: 0.1272 - val_loss: 0.1996\n",
            "Epoch 2/100\n",
            "8/8 [==============================] - 0s 28ms/step - loss: 0.0325 - val_loss: 0.1459\n",
            "Epoch 3/100\n",
            "8/8 [==============================] - 0s 28ms/step - loss: 0.0136 - val_loss: 0.0531\n",
            "Epoch 4/100\n",
            "8/8 [==============================] - 0s 24ms/step - loss: 0.0075 - val_loss: 0.0146\n",
            "Epoch 5/100\n",
            "8/8 [==============================] - 0s 23ms/step - loss: 0.0044 - val_loss: 0.0022\n",
            "Epoch 6/100\n",
            "8/8 [==============================] - 0s 23ms/step - loss: 0.0033 - val_loss: 0.0035\n",
            "Epoch 7/100\n",
            "8/8 [==============================] - 0s 23ms/step - loss: 0.0028 - val_loss: 0.0033\n",
            "Epoch 8/100\n",
            "8/8 [==============================] - 0s 24ms/step - loss: 0.0024 - val_loss: 0.0021\n",
            "Epoch 9/100\n",
            "8/8 [==============================] - 0s 23ms/step - loss: 0.0022 - val_loss: 0.0020\n",
            "Epoch 10/100\n",
            "8/8 [==============================] - 0s 24ms/step - loss: 0.0021 - val_loss: 0.0019\n",
            "Epoch 11/100\n",
            "8/8 [==============================] - 0s 24ms/step - loss: 0.0023 - val_loss: 0.0020\n",
            "Epoch 12/100\n",
            "8/8 [==============================] - 0s 23ms/step - loss: 0.0020 - val_loss: 0.0021\n",
            "Epoch 13/100\n",
            "8/8 [==============================] - 0s 24ms/step - loss: 0.0020 - val_loss: 0.0020\n",
            "Epoch 14/100\n",
            "8/8 [==============================] - 0s 23ms/step - loss: 0.0019 - val_loss: 0.0019\n",
            "Epoch 15/100\n",
            "8/8 [==============================] - 0s 23ms/step - loss: 0.0019 - val_loss: 0.0019\n",
            "Epoch 16/100\n",
            "8/8 [==============================] - 0s 23ms/step - loss: 0.0020 - val_loss: 0.0018\n",
            "Epoch 17/100\n",
            "8/8 [==============================] - 0s 24ms/step - loss: 0.0018 - val_loss: 0.0018\n",
            "Epoch 18/100\n",
            "8/8 [==============================] - 0s 23ms/step - loss: 0.0017 - val_loss: 0.0018\n",
            "Epoch 19/100\n",
            "8/8 [==============================] - 0s 23ms/step - loss: 0.0018 - val_loss: 0.0018\n",
            "Epoch 20/100\n",
            "8/8 [==============================] - 0s 23ms/step - loss: 0.0018 - val_loss: 0.0018\n",
            "Epoch 21/100\n",
            "8/8 [==============================] - 0s 23ms/step - loss: 0.0017 - val_loss: 0.0018\n",
            "Epoch 22/100\n",
            "8/8 [==============================] - 0s 24ms/step - loss: 0.0017 - val_loss: 0.0018\n",
            "Epoch 23/100\n",
            "8/8 [==============================] - 0s 25ms/step - loss: 0.0017 - val_loss: 0.0018\n",
            "Epoch 24/100\n",
            "8/8 [==============================] - 0s 24ms/step - loss: 0.0016 - val_loss: 0.0017\n",
            "Epoch 25/100\n",
            "8/8 [==============================] - 0s 29ms/step - loss: 0.0017 - val_loss: 0.0017\n",
            "Epoch 26/100\n",
            "8/8 [==============================] - 0s 24ms/step - loss: 0.0016 - val_loss: 0.0017\n",
            "Epoch 27/100\n",
            "8/8 [==============================] - 0s 23ms/step - loss: 0.0016 - val_loss: 0.0018\n",
            "Epoch 28/100\n",
            "8/8 [==============================] - 0s 24ms/step - loss: 0.0016 - val_loss: 0.0017\n",
            "Epoch 29/100\n",
            "8/8 [==============================] - 0s 25ms/step - loss: 0.0016 - val_loss: 0.0017\n",
            "Epoch 30/100\n",
            "8/8 [==============================] - 0s 24ms/step - loss: 0.0016 - val_loss: 0.0017\n",
            "Epoch 31/100\n",
            "8/8 [==============================] - 0s 28ms/step - loss: 0.0015 - val_loss: 0.0017\n",
            "Epoch 32/100\n",
            "8/8 [==============================] - 0s 23ms/step - loss: 0.0015 - val_loss: 0.0017\n",
            "Epoch 33/100\n",
            "8/8 [==============================] - 0s 23ms/step - loss: 0.0015 - val_loss: 0.0016\n",
            "Epoch 34/100\n",
            "8/8 [==============================] - 0s 24ms/step - loss: 0.0016 - val_loss: 0.0016\n",
            "Epoch 35/100\n",
            "8/8 [==============================] - 0s 24ms/step - loss: 0.0015 - val_loss: 0.0016\n",
            "Epoch 36/100\n",
            "8/8 [==============================] - 0s 23ms/step - loss: 0.0014 - val_loss: 0.0016\n",
            "Epoch 37/100\n",
            "8/8 [==============================] - 0s 23ms/step - loss: 0.0015 - val_loss: 0.0016\n",
            "Epoch 38/100\n",
            "8/8 [==============================] - 0s 24ms/step - loss: 0.0015 - val_loss: 0.0016\n",
            "Epoch 39/100\n",
            "8/8 [==============================] - 0s 23ms/step - loss: 0.0014 - val_loss: 0.0016\n",
            "Epoch 40/100\n",
            "8/8 [==============================] - 0s 24ms/step - loss: 0.0015 - val_loss: 0.0016\n",
            "Epoch 41/100\n",
            "8/8 [==============================] - 0s 24ms/step - loss: 0.0015 - val_loss: 0.0016\n",
            "Epoch 42/100\n",
            "8/8 [==============================] - 0s 23ms/step - loss: 0.0014 - val_loss: 0.0016\n",
            "Epoch 43/100\n",
            "8/8 [==============================] - 0s 24ms/step - loss: 0.0014 - val_loss: 0.0016\n",
            "Epoch 44/100\n",
            "8/8 [==============================] - 0s 23ms/step - loss: 0.0014 - val_loss: 0.0016\n",
            "Epoch 45/100\n",
            "8/8 [==============================] - 0s 24ms/step - loss: 0.0014 - val_loss: 0.0016\n",
            "Epoch 46/100\n",
            "8/8 [==============================] - 0s 24ms/step - loss: 0.0014 - val_loss: 0.0015\n",
            "Epoch 47/100\n",
            "8/8 [==============================] - 0s 29ms/step - loss: 0.0015 - val_loss: 0.0015\n",
            "Epoch 48/100\n",
            "8/8 [==============================] - 0s 23ms/step - loss: 0.0013 - val_loss: 0.0015\n",
            "Epoch 49/100\n",
            "8/8 [==============================] - 0s 24ms/step - loss: 0.0014 - val_loss: 0.0015\n",
            "Epoch 50/100\n",
            "8/8 [==============================] - 0s 23ms/step - loss: 0.0015 - val_loss: 0.0015\n",
            "Epoch 51/100\n",
            "8/8 [==============================] - 0s 25ms/step - loss: 0.0014 - val_loss: 0.0015\n",
            "Epoch 52/100\n",
            "8/8 [==============================] - 0s 29ms/step - loss: 0.0014 - val_loss: 0.0015\n",
            "Epoch 53/100\n",
            "8/8 [==============================] - 0s 24ms/step - loss: 0.0013 - val_loss: 0.0015\n",
            "Epoch 54/100\n",
            "8/8 [==============================] - 0s 24ms/step - loss: 0.0013 - val_loss: 0.0015\n",
            "Epoch 55/100\n",
            "8/8 [==============================] - 0s 23ms/step - loss: 0.0014 - val_loss: 0.0015\n",
            "Epoch 56/100\n",
            "8/8 [==============================] - 0s 24ms/step - loss: 0.0013 - val_loss: 0.0015\n",
            "Epoch 57/100\n",
            "8/8 [==============================] - 0s 24ms/step - loss: 0.0014 - val_loss: 0.0016\n",
            "Epoch 58/100\n",
            "8/8 [==============================] - 0s 25ms/step - loss: 0.0014 - val_loss: 0.0015\n",
            "Epoch 59/100\n",
            "8/8 [==============================] - 0s 30ms/step - loss: 0.0014 - val_loss: 0.0015\n",
            "Epoch 60/100\n",
            "8/8 [==============================] - 0s 27ms/step - loss: 0.0013 - val_loss: 0.0017\n",
            "Epoch 61/100\n",
            "8/8 [==============================] - 0s 28ms/step - loss: 0.0013 - val_loss: 0.0016\n",
            "Epoch 62/100\n",
            "8/8 [==============================] - 0s 27ms/step - loss: 0.0013 - val_loss: 0.0015\n",
            "Epoch 63/100\n",
            "8/8 [==============================] - 0s 26ms/step - loss: 0.0013 - val_loss: 0.0014\n",
            "Epoch 64/100\n",
            "8/8 [==============================] - 0s 33ms/step - loss: 0.0013 - val_loss: 0.0017\n",
            "Epoch 65/100\n",
            "8/8 [==============================] - 0s 26ms/step - loss: 0.0013 - val_loss: 0.0014\n",
            "Epoch 66/100\n",
            "8/8 [==============================] - 0s 28ms/step - loss: 0.0013 - val_loss: 0.0014\n",
            "Epoch 67/100\n",
            "8/8 [==============================] - 0s 28ms/step - loss: 0.0013 - val_loss: 0.0014\n",
            "Epoch 68/100\n",
            "8/8 [==============================] - 0s 27ms/step - loss: 0.0013 - val_loss: 0.0015\n",
            "Epoch 69/100\n",
            "8/8 [==============================] - 0s 26ms/step - loss: 0.0012 - val_loss: 0.0014\n",
            "Epoch 70/100\n",
            "8/8 [==============================] - 0s 25ms/step - loss: 0.0013 - val_loss: 0.0014\n",
            "Epoch 71/100\n",
            "8/8 [==============================] - 0s 24ms/step - loss: 0.0014 - val_loss: 0.0015\n",
            "Epoch 72/100\n",
            "8/8 [==============================] - 0s 23ms/step - loss: 0.0013 - val_loss: 0.0014\n",
            "Epoch 73/100\n",
            "8/8 [==============================] - 0s 24ms/step - loss: 0.0013 - val_loss: 0.0014\n",
            "Epoch 74/100\n",
            "8/8 [==============================] - 0s 24ms/step - loss: 0.0012 - val_loss: 0.0015\n",
            "Epoch 75/100\n",
            "8/8 [==============================] - 0s 24ms/step - loss: 0.0013 - val_loss: 0.0015\n",
            "Epoch 76/100\n",
            "8/8 [==============================] - 0s 25ms/step - loss: 0.0013 - val_loss: 0.0015\n",
            "Epoch 77/100\n",
            "8/8 [==============================] - 0s 24ms/step - loss: 0.0012 - val_loss: 0.0015\n",
            "Epoch 78/100\n",
            "8/8 [==============================] - 0s 24ms/step - loss: 0.0012 - val_loss: 0.0014\n",
            "Epoch 79/100\n",
            "8/8 [==============================] - 0s 24ms/step - loss: 0.0013 - val_loss: 0.0014\n",
            "Epoch 80/100\n",
            "8/8 [==============================] - 0s 24ms/step - loss: 0.0013 - val_loss: 0.0015\n",
            "Epoch 81/100\n",
            "8/8 [==============================] - 0s 24ms/step - loss: 0.0012 - val_loss: 0.0015\n",
            "Epoch 82/100\n",
            "8/8 [==============================] - 0s 24ms/step - loss: 0.0012 - val_loss: 0.0014\n",
            "Epoch 83/100\n",
            "8/8 [==============================] - 0s 24ms/step - loss: 0.0012 - val_loss: 0.0015\n",
            "Epoch 84/100\n",
            "8/8 [==============================] - 0s 25ms/step - loss: 0.0012 - val_loss: 0.0014\n",
            "Epoch 85/100\n",
            "8/8 [==============================] - 0s 24ms/step - loss: 0.0013 - val_loss: 0.0013\n",
            "Epoch 86/100\n",
            "8/8 [==============================] - 0s 24ms/step - loss: 0.0013 - val_loss: 0.0014\n",
            "Epoch 87/100\n",
            "8/8 [==============================] - 0s 29ms/step - loss: 0.0013 - val_loss: 0.0015\n",
            "Epoch 88/100\n",
            "8/8 [==============================] - 0s 24ms/step - loss: 0.0013 - val_loss: 0.0014\n",
            "Epoch 89/100\n",
            "8/8 [==============================] - 0s 24ms/step - loss: 0.0013 - val_loss: 0.0013\n",
            "Epoch 90/100\n",
            "8/8 [==============================] - 0s 24ms/step - loss: 0.0013 - val_loss: 0.0014\n",
            "Epoch 91/100\n",
            "8/8 [==============================] - 0s 24ms/step - loss: 0.0013 - val_loss: 0.0015\n",
            "Epoch 92/100\n",
            "8/8 [==============================] - 0s 24ms/step - loss: 0.0014 - val_loss: 0.0014\n",
            "Epoch 93/100\n",
            "8/8 [==============================] - 0s 24ms/step - loss: 0.0015 - val_loss: 0.0014\n",
            "Epoch 94/100\n",
            "8/8 [==============================] - 0s 24ms/step - loss: 0.0013 - val_loss: 0.0013\n",
            "Epoch 95/100\n",
            "8/8 [==============================] - 0s 24ms/step - loss: 0.0013 - val_loss: 0.0014\n",
            "Epoch 96/100\n",
            "8/8 [==============================] - 0s 24ms/step - loss: 0.0013 - val_loss: 0.0014\n",
            "Epoch 97/100\n",
            "8/8 [==============================] - 0s 23ms/step - loss: 0.0012 - val_loss: 0.0014\n",
            "Epoch 98/100\n",
            "8/8 [==============================] - 0s 24ms/step - loss: 0.0013 - val_loss: 0.0013\n",
            "Epoch 99/100\n",
            "8/8 [==============================] - 0s 24ms/step - loss: 0.0012 - val_loss: 0.0014\n",
            "Epoch 100/100\n",
            "8/8 [==============================] - 0s 24ms/step - loss: 0.0012 - val_loss: 0.0014\n"
          ]
        }
      ],
      "source": [
        "hist_gru_model=gru_model.fit(x_train,y_train,epochs=100,\n",
        "                        validation_data=(x_test,y_test)\n",
        "                        ,batch_size=256)"
      ]
    },
    {
      "cell_type": "code",
      "execution_count": 39,
      "metadata": {
        "colab": {
          "base_uri": "https://localhost:8080/"
        },
        "id": "NQDq1Yk26no7",
        "outputId": "692ec3b4-4921-458d-af7b-f41aced3a663"
      },
      "outputs": [
        {
          "output_type": "stream",
          "name": "stdout",
          "text": [
            "29/29 [==============================] - 1s 4ms/step\n"
          ]
        }
      ],
      "source": [
        "from sklearn import metrics\n",
        "import math\n",
        "\n",
        "y_pred=gru_model.predict(x_test)\n",
        "lbl_real=y_test\n",
        "\n",
        "mse=metrics.mean_squared_error(lbl_real, y_pred)\n",
        "rmse = math.sqrt(mse)\n",
        "mape=metrics.mean_absolute_percentage_error(lbl_real, y_pred)\n",
        "mae=metrics.mean_absolute_error(lbl_real,y_pred)\n",
        "r2= metrics.r2_score(lbl_real, y_pred)\n",
        "\n",
        "# acc error\n",
        "err = abs(y_test- y_pred)\n",
        "diff = sum(err) / len(err)\n",
        "accr = 100 - np.mean(diff)\n",
        "\n",
        "result_array.append([mse,rmse,mape,mae,r2,accr])\n",
        "algorithm_name.append(\"GRU\")\n"
      ]
    },
    {
      "cell_type": "code",
      "execution_count": 40,
      "metadata": {
        "id": "Td1ocmHn6no9"
      },
      "outputs": [],
      "source": [
        "from sklearn.preprocessing import MinMaxScaler\n",
        "data_normal=data_ready.copy()\n",
        "sce=MinMaxScaler(feature_range=(-1,1))\n",
        "data_col=data_ready[\"Close\"].values.reshape(-1,1)\n",
        "sce.fit(data_col)\n",
        "y_train_real  = sce.transform(y_train.reshape(-1,1))\n",
        "y_test_real  = sce.transform(y_test.reshape(-1,1))\n",
        "pred_real=sce.transform(y_pred.reshape(-1,1))"
      ]
    },
    {
      "cell_type": "code",
      "execution_count": 41,
      "metadata": {
        "colab": {
          "base_uri": "https://localhost:8080/",
          "height": 419
        },
        "id": "SB7xsFdQ6no-",
        "outputId": "fccbd7bf-8144-40eb-81e1-57de67de0435"
      },
      "outputs": [
        {
          "output_type": "display_data",
          "data": {
            "text/plain": [
              "<Figure size 864x432 with 1 Axes>"
            ],
            "image/png": "[encoded data removed]"
          },
          "metadata": {
            "needs_background": "light"
          }
        }
      ],
      "source": [
        "from matplotlib.dates import DateFormatter\n",
        "fig, ax = plt.subplots(figsize=(12,6))\n",
        "ax.plot(data_main[\"date\"][win:idx],y_train_real)\n",
        "ax.plot(data_main[\"date\"][idx:],y_test_real)\n",
        "ax.plot(data_main[\"date\"][idx:],pred_real)\n",
        "myFmt = DateFormatter(\"%Y-%m-%d\")\n",
        "ax.xaxis.set_major_formatter(myFmt)\n",
        "plt.setp(ax.get_xticklabels(), rotation = 15)\n",
        "plt.legend([\"train\",\"test\",\"predict\"])\n",
        "plt.title(\"prediction by GRU\")\n",
        "plt.xlabel('Date', fontsize=10)\n",
        "plt.ylabel('Value', fontsize=10)\n",
        "plt.show()"
      ]
    },
    {
      "cell_type": "markdown",
      "metadata": {
        "id": "0yB4VOwSx-6R"
      },
      "source": [
        "# **result**"
      ]
    },
    {
      "cell_type": "code",
      "execution_count": 42,
      "metadata": {
        "colab": {
          "base_uri": "https://localhost:8080/",
          "height": 143
        },
        "id": "dkQXqelP0-Br",
        "outputId": "2ae36415-d474-468a-8a23-17cc18492468"
      },
      "outputs": [
        {
          "output_type": "execute_result",
          "data": {
            "text/plain": [
              "  Algorithm       MSE      RMSE      MAPE       MAE        R2       Accr\n",
              "0      LSTM  0.003066  0.055371  0.248269  0.042015  0.980397  99.553150\n",
              "1       CNN  0.008211  0.090615  0.425862  0.070961  0.947500  99.546285\n",
              "2       GRU  0.001352  0.036775  0.142595  0.027415  0.991353  99.553149"
            ],
            "text/html": [
              "\n",
              "  <div id=\"df-b351b84c-5085-4a66-b482-3b8ed6f28d0d\">\n",
              "    <div class=\"colab-df-container\">\n",
              "      <div>\n",
              "<style scoped>\n",
              "    .dataframe tbody tr th:only-of-type {\n",
              "        vertical-align: middle;\n",
              "    }\n",
              "\n",
              "    .dataframe tbody tr th {\n",
              "        vertical-align: top;\n",
              "    }\n",
              "\n",
              "    .dataframe thead th {\n",
              "        text-align: right;\n",
              "    }\n",
              "</style>\n",
              "<table border=\"1\" class=\"dataframe\">\n",
              "  <thead>\n",
              "    <tr style=\"text-align: right;\">\n",
              "      <th></th>\n",
              "      <th>Algorithm</th>\n",
              "      <th>MSE</th>\n",
              "      <th>RMSE</th>\n",
              "      <th>MAPE</th>\n",
              "      <th>MAE</th>\n",
              "      <th>R2</th>\n",
              "      <th>Accr</th>\n",
              "    </tr>\n",
              "  </thead>\n",
              "  <tbody>\n",
              "    <tr>\n",
              "      <th>0</th>\n",
              "      <td>LSTM</td>\n",
              "      <td>0.003066</td>\n",
              "      <td>0.055371</td>\n",
              "      <td>0.248269</td>\n",
              "      <td>0.042015</td>\n",
              "      <td>0.980397</td>\n",
              "      <td>99.553150</td>\n",
              "    </tr>\n",
              "    <tr>\n",
              "      <th>1</th>\n",
              "      <td>CNN</td>\n",
              "      <td>0.008211</td>\n",
              "      <td>0.090615</td>\n",
              "      <td>0.425862</td>\n",
              "      <td>0.070961</td>\n",
              "      <td>0.947500</td>\n",
              "      <td>99.546285</td>\n",
              "    </tr>\n",
              "    <tr>\n",
              "      <th>2</th>\n",
              "      <td>GRU</td>\n",
              "      <td>0.001352</td>\n",
              "      <td>0.036775</td>\n",
              "      <td>0.142595</td>\n",
              "      <td>0.027415</td>\n",
              "      <td>0.991353</td>\n",
              "      <td>99.553149</td>\n",
              "    </tr>\n",
              "  </tbody>\n",
              "</table>\n",
              "</div>\n",
              "      <button class=\"colab-df-convert\" onclick=\"convertToInteractive('df-b351b84c-5085-4a66-b482-3b8ed6f28d0d')\"\n",
              "              title=\"Convert this dataframe to an interactive table.\"\n",
              "              style=\"display:none;\">\n",
              "        \n",
              "  <svg xmlns=\"http://www.w3.org/2000/svg\" height=\"24px\"viewBox=\"0 0 24 24\"\n",
              "       width=\"24px\">\n",
              "    <path d=\"M0 0h24v24H0V0z\" fill=\"none\"/>\n",
              "    <path d=\"M18.56 5.44l.94 2.06.94-2.06 2.06-.94-2.06-.94-.94-2.06-.94 2.06-2.06.94zm-11 1L8.5 8.5l.94-2.06 2.06-.94-2.06-.94L8.5 2.5l-.94 2.06-2.06.94zm10 10l.94 2.06.94-2.06 2.06-.94-2.06-.94-.94-2.06-.94 2.06-2.06.94z\"/><path d=\"M17.41 7.96l-1.37-1.37c-.4-.4-.92-.59-1.43-.59-.52 0-1.04.2-1.43.59L10.3 9.45l-7.72 7.72c-.78.78-.78 2.05 0 2.83L4 21.41c.39.39.9.59 1.41.59.51 0 1.02-.2 1.41-.59l7.78-7.78 2.81-2.81c.8-.78.8-2.07 0-2.86zM5.41 20L4 18.59l7.72-7.72 1.47 1.35L5.41 20z\"/>\n",
              "  </svg>\n",
              "      </button>\n",
              "      \n",
              "  <style>\n",
              "    .colab-df-container {\n",
              "      display:flex;\n",
              "      flex-wrap:wrap;\n",
              "      gap: 12px;\n",
              "    }\n",
              "\n",
              "    .colab-df-convert {\n",
              "      background-color: #E8F0FE;\n",
              "      border: none;\n",
              "      border-radius: 50%;\n",
              "      cursor: pointer;\n",
              "      display: none;\n",
              "      fill: #1967D2;\n",
              "      height: 32px;\n",
              "      padding: 0 0 0 0;\n",
              "      width: 32px;\n",
              "    }\n",
              "\n",
              "    .colab-df-convert:hover {\n",
              "      background-color: #E2EBFA;\n",
              "      box-shadow: 0px 1px 2px rgba(60, 64, 67, 0.3), 0px 1px 3px 1px rgba(60, 64, 67, 0.15);\n",
              "      fill: #174EA6;\n",
              "    }\n",
              "\n",
              "    [theme=dark] .colab-df-convert {\n",
              "      background-color: #3B4455;\n",
              "      fill: #D2E3FC;\n",
              "    }\n",
              "\n",
              "    [theme=dark] .colab-df-convert:hover {\n",
              "      background-color: #434B5C;\n",
              "      box-shadow: 0px 1px 3px 1px rgba(0, 0, 0, 0.15);\n",
              "      filter: drop-shadow(0px 1px 2px rgba(0, 0, 0, 0.3));\n",
              "      fill: #FFFFFF;\n",
              "    }\n",
              "  </style>\n",
              "\n",
              "      <script>\n",
              "        const buttonEl =\n",
              "          document.querySelector('#df-b351b84c-5085-4a66-b482-3b8ed6f28d0d button.colab-df-convert');\n",
              "        buttonEl.style.display =\n",
              "          google.colab.kernel.accessAllowed ? 'block' : 'none';\n",
              "\n",
              "        async function convertToInteractive(key) {\n",
              "          const element = document.querySelector('#df-b351b84c-5085-4a66-b482-3b8ed6f28d0d');\n",
              "          const dataTable =\n",
              "            await google.colab.kernel.invokeFunction('convertToInteractive',\n",
              "                                                     [key], {});\n",
              "          if (!dataTable) return;\n",
              "\n",
              "          const docLinkHtml = 'Like what you see? Visit the ' +\n",
              "            '<a target=\"_blank\" href=https://colab.research.google.com/notebooks/data_table.ipynb>data table notebook</a>'\n",
              "            + ' to learn more about interactive tables.';\n",
              "          element.innerHTML = '';\n",
              "          dataTable['output_type'] = 'display_data';\n",
              "          await google.colab.output.renderOutput(dataTable, element);\n",
              "          const docLink = document.createElement('div');\n",
              "          docLink.innerHTML = docLinkHtml;\n",
              "          element.appendChild(docLink);\n",
              "        }\n",
              "      </script>\n",
              "    </div>\n",
              "  </div>\n",
              "  "
            ]
          },
          "metadata": {},
          "execution_count": 42
        }
      ],
      "source": [
        "data_res=pd.DataFrame(result_array,columns=[\"MSE\",\"RMSE\",\"MAPE\",\"MAE\",\"R2\",\"Accr\"])\n",
        "data_res[\"Algorithm\"]=algorithm_name\n",
        "data_res=data_res[[\"Algorithm\",\"MSE\",\"RMSE\",\"MAPE\",\"MAE\",\"R2\",\"Accr\"]]\n",
        "data_res"
      ]
    },
    {
      "cell_type": "code",
      "execution_count": 43,
      "metadata": {
        "id": "r1suiZdpLkLe"
      },
      "outputs": [],
      "source": [
        "data_res.to_excel(\"res_bit.xlsx\")"
      ]
    },
    {
      "cell_type": "code",
      "execution_count": 44,
      "metadata": {
        "colab": {
          "base_uri": "https://localhost:8080/",
          "height": 407
        },
        "id": "BMvNd8lWED8P",
        "outputId": "821fccd9-2279-4657-d333-4d6229c59142"
      },
      "outputs": [
        {
          "output_type": "display_data",
          "data": {
            "text/plain": [
              "<Figure size 576x432 with 1 Axes>"
            ],
            "image/png": "[encoded data removed]"
          },
          "metadata": {
            "needs_background": "light"
          }
        }
      ],
      "source": [
        "plt.figure(figsize=(8,6))\n",
        "plt.semilogy(hist_lstm_model.history[\"loss\"])\n",
        "plt.semilogy(hist_cnn_model.history[\"loss\"])\n",
        "plt.semilogy(hist_gru_model.history[\"loss\"])\n",
        "plt.legend(algorithm_name)\n",
        "plt.title('Loss Function For Train Data', fontname='serif', fontsize=12)\n",
        "plt.xlabel('Epochs', fontname='serif', fontsize=12)\n",
        "plt.ylabel('Loss Value', fontname='serif', fontsize=12)\n",
        "plt.show()"
      ]
    },
    {
      "cell_type": "code",
      "execution_count": 45,
      "metadata": {
        "colab": {
          "base_uri": "https://localhost:8080/",
          "height": 407
        },
        "id": "_HjEDrJ5FCQQ",
        "outputId": "f9233861-e6ff-42da-8a5b-7c86552a28b1"
      },
      "outputs": [
        {
          "output_type": "display_data",
          "data": {
            "text/plain": [
              "<Figure size 576x432 with 1 Axes>"
            ],
            "image/png": "[encoded data removed]"
          },
          "metadata": {
            "needs_background": "light"
          }
        }
      ],
      "source": [
        "plt.figure(figsize=(8,6))\n",
        "plt.semilogy(hist_lstm_model.history[\"val_loss\"])\n",
        "plt.semilogy(hist_cnn_model.history[\"val_loss\"])\n",
        "plt.semilogy(hist_gru_model.history[\"val_loss\"])\n",
        "plt.legend(algorithm_name)\n",
        "plt.title('Loss Function For Test Data', fontname='serif', fontsize=12)\n",
        "plt.xlabel('Epochs', fontname='serif', fontsize=12)\n",
        "plt.ylabel('Loss Value', fontname='serif', fontsize=12)\n",
        "plt.show()"
      ]
    },
    {
      "cell_type": "markdown",
      "source": [
        "# **future**"
      ],
      "metadata": {
        "id": "RDYEv833gn0v"
      }
    },
    {
      "cell_type": "code",
      "source": [
        "from sklearn.preprocessing import MinMaxScaler\n",
        "data_normal=data_ready.copy()\n",
        "sce=MinMaxScaler(feature_range=(-1,1))\n",
        "for col_name in (data_ready.columns):\n",
        "  print(col_name)\n",
        "  data_col=data_ready[col_name].values.reshape(-1,1)\n",
        "  data_normal[col_name]=sce.fit_transform(data_col)"
      ],
      "metadata": {
        "colab": {
          "base_uri": "https://localhost:8080/"
        },
        "id": "tzgIwz4A-f-S",
        "outputId": "b94f4f84-5a79-424a-b776-cb11d429492b"
      },
      "execution_count": 54,
      "outputs": [
        {
          "output_type": "stream",
          "name": "stdout",
          "text": [
            "Close\n",
            "score\n"
          ]
        }
      ]
    },
    {
      "cell_type": "code",
      "source": [
        "# gru_model\n",
        "# lstm_model\n",
        "# cnn_model"
      ],
      "metadata": {
        "id": "8iv9dxPWgnEL"
      },
      "execution_count": 55,
      "outputs": []
    },
    {
      "cell_type": "code",
      "source": [
        "data_col=data_ready[\"Close\"].values.reshape(-1,1)\n",
        "sce.fit(data_col)"
      ],
      "metadata": {
        "colab": {
          "base_uri": "https://localhost:8080/"
        },
        "id": "SOBvGMjXjJcj",
        "outputId": "e7dca21b-6476-4eab-9882-87609ae58511"
      },
      "execution_count": 56,
      "outputs": [
        {
          "output_type": "execute_result",
          "data": {
            "text/plain": [
              "MinMaxScaler(feature_range=(-1, 1))"
            ]
          },
          "metadata": {},
          "execution_count": 56
        }
      ]
    },
    {
      "cell_type": "code",
      "source": [
        "model_final=gru_model\n",
        "last_time_plot=[-5,-4,-3,-2,-1]\n",
        "real_lbl=y_test[last_time_plot].reshape(-1,1)\n",
        "pred_lbl=model_final.predict(x_test[last_time_plot])"
      ],
      "metadata": {
        "colab": {
          "base_uri": "https://localhost:8080/"
        },
        "id": "aBKQPqfhh0r6",
        "outputId": "c37b390b-c64f-4178-8421-252bb5e16037"
      },
      "execution_count": 57,
      "outputs": [
        {
          "output_type": "stream",
          "name": "stdout",
          "text": [
            "1/1 [==============================] - 0s 20ms/step\n"
          ]
        }
      ]
    },
    {
      "cell_type": "code",
      "source": [
        "pred_price=sce.inverse_transform(pred_lbl).reshape(pred_lbl.shape[0]).tolist()\n",
        "real_price=sce.inverse_transform(real_lbl).reshape(real_lbl.shape[0]).tolist()"
      ],
      "metadata": {
        "id": "T3q2-vIqiwjj"
      },
      "execution_count": 58,
      "outputs": []
    },
    {
      "cell_type": "code",
      "source": [
        "import pandas as pd\n",
        "data_pred=pd.DataFrame(columns=[\"real price\",\"pred price\"])\n",
        "data_pred[\"real price\"]=real_price\n",
        "data_pred[\"pred price\"]=pred_price\n",
        "data_pred"
      ],
      "metadata": {
        "colab": {
          "base_uri": "https://localhost:8080/",
          "height": 206
        },
        "id": "vCL7JmBrkdf3",
        "outputId": "87eb5a3d-30e1-4166-c468-c6de2f138739"
      },
      "execution_count": 62,
      "outputs": [
        {
          "output_type": "execute_result",
          "data": {
            "text/plain": [
              "    real price   pred price\n",
              "0  2631.800049  2570.120117\n",
              "1  2619.050049  2585.170166\n",
              "2  2607.300049  2593.429688\n",
              "3  2592.350098  2592.775635\n",
              "4  2607.050049  2584.958008"
            ],
            "text/html": [
              "\n",
              "  <div id=\"df-0a964320-ba83-4caa-b584-e44e7bf6e251\">\n",
              "    <div class=\"colab-df-container\">\n",
              "      <div>\n",
              "<style scoped>\n",
              "    .dataframe tbody tr th:only-of-type {\n",
              "        vertical-align: middle;\n",
              "    }\n",
              "\n",
              "    .dataframe tbody tr th {\n",
              "        vertical-align: top;\n",
              "    }\n",
              "\n",
              "    .dataframe thead th {\n",
              "        text-align: right;\n",
              "    }\n",
              "</style>\n",
              "<table border=\"1\" class=\"dataframe\">\n",
              "  <thead>\n",
              "    <tr style=\"text-align: right;\">\n",
              "      <th></th>\n",
              "      <th>real price</th>\n",
              "      <th>pred price</th>\n",
              "    </tr>\n",
              "  </thead>\n",
              "  <tbody>\n",
              "    <tr>\n",
              "      <th>0</th>\n",
              "      <td>2631.800049</td>\n",
              "      <td>2570.120117</td>\n",
              "    </tr>\n",
              "    <tr>\n",
              "      <th>1</th>\n",
              "      <td>2619.050049</td>\n",
              "      <td>2585.170166</td>\n",
              "    </tr>\n",
              "    <tr>\n",
              "      <th>2</th>\n",
              "      <td>2607.300049</td>\n",
              "      <td>2593.429688</td>\n",
              "    </tr>\n",
              "    <tr>\n",
              "      <th>3</th>\n",
              "      <td>2592.350098</td>\n",
              "      <td>2592.775635</td>\n",
              "    </tr>\n",
              "    <tr>\n",
              "      <th>4</th>\n",
              "      <td>2607.050049</td>\n",
              "      <td>2584.958008</td>\n",
              "    </tr>\n",
              "  </tbody>\n",
              "</table>\n",
              "</div>\n",
              "      <button class=\"colab-df-convert\" onclick=\"convertToInteractive('df-0a964320-ba83-4caa-b584-e44e7bf6e251')\"\n",
              "              title=\"Convert this dataframe to an interactive table.\"\n",
              "              style=\"display:none;\">\n",
              "        \n",
              "  <svg xmlns=\"http://www.w3.org/2000/svg\" height=\"24px\"viewBox=\"0 0 24 24\"\n",
              "       width=\"24px\">\n",
              "    <path d=\"M0 0h24v24H0V0z\" fill=\"none\"/>\n",
              "    <path d=\"M18.56 5.44l.94 2.06.94-2.06 2.06-.94-2.06-.94-.94-2.06-.94 2.06-2.06.94zm-11 1L8.5 8.5l.94-2.06 2.06-.94-2.06-.94L8.5 2.5l-.94 2.06-2.06.94zm10 10l.94 2.06.94-2.06 2.06-.94-2.06-.94-.94-2.06-.94 2.06-2.06.94z\"/><path d=\"M17.41 7.96l-1.37-1.37c-.4-.4-.92-.59-1.43-.59-.52 0-1.04.2-1.43.59L10.3 9.45l-7.72 7.72c-.78.78-.78 2.05 0 2.83L4 21.41c.39.39.9.59 1.41.59.51 0 1.02-.2 1.41-.59l7.78-7.78 2.81-2.81c.8-.78.8-2.07 0-2.86zM5.41 20L4 18.59l7.72-7.72 1.47 1.35L5.41 20z\"/>\n",
              "  </svg>\n",
              "      </button>\n",
              "      \n",
              "  <style>\n",
              "    .colab-df-container {\n",
              "      display:flex;\n",
              "      flex-wrap:wrap;\n",
              "      gap: 12px;\n",
              "    }\n",
              "\n",
              "    .colab-df-convert {\n",
              "      background-color: #E8F0FE;\n",
              "      border: none;\n",
              "      border-radius: 50%;\n",
              "      cursor: pointer;\n",
              "      display: none;\n",
              "      fill: #1967D2;\n",
              "      height: 32px;\n",
              "      padding: 0 0 0 0;\n",
              "      width: 32px;\n",
              "    }\n",
              "\n",
              "    .colab-df-convert:hover {\n",
              "      background-color: #E2EBFA;\n",
              "      box-shadow: 0px 1px 2px rgba(60, 64, 67, 0.3), 0px 1px 3px 1px rgba(60, 64, 67, 0.15);\n",
              "      fill: #174EA6;\n",
              "    }\n",
              "\n",
              "    [theme=dark] .colab-df-convert {\n",
              "      background-color: #3B4455;\n",
              "      fill: #D2E3FC;\n",
              "    }\n",
              "\n",
              "    [theme=dark] .colab-df-convert:hover {\n",
              "      background-color: #434B5C;\n",
              "      box-shadow: 0px 1px 3px 1px rgba(0, 0, 0, 0.15);\n",
              "      filter: drop-shadow(0px 1px 2px rgba(0, 0, 0, 0.3));\n",
              "      fill: #FFFFFF;\n",
              "    }\n",
              "  </style>\n",
              "\n",
              "      <script>\n",
              "        const buttonEl =\n",
              "          document.querySelector('#df-0a964320-ba83-4caa-b584-e44e7bf6e251 button.colab-df-convert');\n",
              "        buttonEl.style.display =\n",
              "          google.colab.kernel.accessAllowed ? 'block' : 'none';\n",
              "\n",
              "        async function convertToInteractive(key) {\n",
              "          const element = document.querySelector('#df-0a964320-ba83-4caa-b584-e44e7bf6e251');\n",
              "          const dataTable =\n",
              "            await google.colab.kernel.invokeFunction('convertToInteractive',\n",
              "                                                     [key], {});\n",
              "          if (!dataTable) return;\n",
              "\n",
              "          const docLinkHtml = 'Like what you see? Visit the ' +\n",
              "            '<a target=\"_blank\" href=https://colab.research.google.com/notebooks/data_table.ipynb>data table notebook</a>'\n",
              "            + ' to learn more about interactive tables.';\n",
              "          element.innerHTML = '';\n",
              "          dataTable['output_type'] = 'display_data';\n",
              "          await google.colab.output.renderOutput(dataTable, element);\n",
              "          const docLink = document.createElement('div');\n",
              "          docLink.innerHTML = docLinkHtml;\n",
              "          element.appendChild(docLink);\n",
              "        }\n",
              "      </script>\n",
              "    </div>\n",
              "  </div>\n",
              "  "
            ]
          },
          "metadata": {},
          "execution_count": 62
        }
      ]
    },
    {
      "cell_type": "code",
      "source": [
        "data_hybrid=data_normal.values\n",
        "last_win=data_hybrid[-win:,:]\n",
        "last_win=last_win.reshape(1,last_win.shape[0],last_win.shape[1])\n",
        "last_win.shape"
      ],
      "metadata": {
        "colab": {
          "base_uri": "https://localhost:8080/"
        },
        "id": "-nDF8WTg4Ngw",
        "outputId": "6ffe2417-e83b-4a76-884e-af6fed180390"
      },
      "execution_count": 60,
      "outputs": [
        {
          "output_type": "execute_result",
          "data": {
            "text/plain": [
              "(1, 60, 2)"
            ]
          },
          "metadata": {},
          "execution_count": 60
        }
      ]
    },
    {
      "cell_type": "code",
      "source": [
        "lbl_future=model_final.predict(last_win)\n",
        "lbl_future=lbl_future.reshape(-1,1)\n",
        "price_future=sce.inverse_transform(lbl_future)\n",
        "print(f'future price : {price_future.tolist()[0][0]}')"
      ],
      "metadata": {
        "colab": {
          "base_uri": "https://localhost:8080/"
        },
        "id": "n4AImcpq5PKQ",
        "outputId": "faee9714-edc0-4b57-87f5-d3eb8be270ba"
      },
      "execution_count": 61,
      "outputs": [
        {
          "output_type": "stream",
          "name": "stdout",
          "text": [
            "1/1 [==============================] - 0s 19ms/step\n",
            "future price : 2584.3876953125\n"
          ]
        }
      ]
    }
  ],
  "metadata": {
    "accelerator": "GPU",
    "colab": {
      "collapsed_sections": [
        "KS_VFrZt72rB",
        "na5LbR398gbv",
        "lZDIv7ZuIoB0",
        "r6x48POqAfCN",
        "qmwRItpjECgL",
        "WWugnSdWEH8q",
        "89S4dJnSD9zH",
        "uGwqJI9Y1cn5",
        "VsQTc-aJ6noy"
      ],
      "provenance": []
    },
    "gpuClass": "standard",
    "kernelspec": {
      "display_name": "Python 3.10.0 64-bit",
      "language": "python",
      "name": "python3"
    },
    "language_info": {
      "name": "python",
      "version": "3.10.0"
    },
    "vscode": {
      "interpreter": {
        "hash": "c8686c18ed1493b687bf4918dc91855d4eaccc0b5c225ba21d6d4f373ce9d798"
      }
    }
  },
  "nbformat": 4,
  "nbformat_minor": 0
}